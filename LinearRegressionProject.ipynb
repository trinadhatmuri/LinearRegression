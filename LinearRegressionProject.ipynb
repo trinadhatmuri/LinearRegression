{
 "cells": [
  {
   "cell_type": "markdown",
   "id": "595867ae",
   "metadata": {},
   "source": [
    "# Implementation of Linear Regression with and without SkLearn"
   ]
  },
  {
   "cell_type": "markdown",
   "id": "1c747241",
   "metadata": {},
   "source": [
    "### First let us import the required libraries"
   ]
  },
  {
   "cell_type": "code",
   "execution_count": 1,
   "id": "ce298ae2",
   "metadata": {},
   "outputs": [],
   "source": [
    "import numpy as np\n",
    "import pandas as pd\n",
    "import matplotlib.pyplot as plt\n",
    "import math"
   ]
  },
  {
   "cell_type": "markdown",
   "id": "3197fc71",
   "metadata": {},
   "source": [
    "### Import the data we are going to work with."
   ]
  },
  {
   "cell_type": "code",
   "execution_count": 2,
   "id": "8f13b799",
   "metadata": {},
   "outputs": [],
   "source": [
    "data = pd.read_csv('LengthOfStay.csv')"
   ]
  },
  {
   "cell_type": "markdown",
   "id": "65e75d92",
   "metadata": {},
   "source": [
    "Since only limited columns are displayed we will set it to None, so that there is no limit in the number of columns displayed."
   ]
  },
  {
   "cell_type": "code",
   "execution_count": 3,
   "id": "eaf18b8b",
   "metadata": {},
   "outputs": [],
   "source": [
    "pd.set_option('display.max_columns', None)"
   ]
  },
  {
   "cell_type": "markdown",
   "id": "9d06e656",
   "metadata": {},
   "source": [
    "So let us take a look at our data and see if we need to make any changes so that it fits our Linear Regression model."
   ]
  },
  {
   "cell_type": "code",
   "execution_count": 4,
   "id": "ef0cfa5a",
   "metadata": {},
   "outputs": [
    {
     "data": {
      "text/html": [
       "<div>\n",
       "<style scoped>\n",
       "    .dataframe tbody tr th:only-of-type {\n",
       "        vertical-align: middle;\n",
       "    }\n",
       "\n",
       "    .dataframe tbody tr th {\n",
       "        vertical-align: top;\n",
       "    }\n",
       "\n",
       "    .dataframe thead th {\n",
       "        text-align: right;\n",
       "    }\n",
       "</style>\n",
       "<table border=\"1\" class=\"dataframe\">\n",
       "  <thead>\n",
       "    <tr style=\"text-align: right;\">\n",
       "      <th></th>\n",
       "      <th>eid</th>\n",
       "      <th>vdate</th>\n",
       "      <th>rcount</th>\n",
       "      <th>gender</th>\n",
       "      <th>dialysisrenalendstage</th>\n",
       "      <th>asthma</th>\n",
       "      <th>irondef</th>\n",
       "      <th>pneum</th>\n",
       "      <th>substancedependence</th>\n",
       "      <th>psychologicaldisordermajor</th>\n",
       "      <th>depress</th>\n",
       "      <th>psychother</th>\n",
       "      <th>fibrosisandother</th>\n",
       "      <th>malnutrition</th>\n",
       "      <th>hemo</th>\n",
       "      <th>hematocrit</th>\n",
       "      <th>neutrophils</th>\n",
       "      <th>sodium</th>\n",
       "      <th>glucose</th>\n",
       "      <th>bloodureanitro</th>\n",
       "      <th>creatinine</th>\n",
       "      <th>bmi</th>\n",
       "      <th>pulse</th>\n",
       "      <th>respiration</th>\n",
       "      <th>secondarydiagnosisnonicd9</th>\n",
       "      <th>discharged</th>\n",
       "      <th>facid</th>\n",
       "      <th>lengthofstay</th>\n",
       "    </tr>\n",
       "  </thead>\n",
       "  <tbody>\n",
       "    <tr>\n",
       "      <th>0</th>\n",
       "      <td>1</td>\n",
       "      <td>8/29/2012</td>\n",
       "      <td>0</td>\n",
       "      <td>F</td>\n",
       "      <td>0</td>\n",
       "      <td>0</td>\n",
       "      <td>0</td>\n",
       "      <td>0</td>\n",
       "      <td>0</td>\n",
       "      <td>0</td>\n",
       "      <td>0</td>\n",
       "      <td>0</td>\n",
       "      <td>0</td>\n",
       "      <td>0</td>\n",
       "      <td>0</td>\n",
       "      <td>11.5</td>\n",
       "      <td>14.20</td>\n",
       "      <td>140.361132</td>\n",
       "      <td>192.476918</td>\n",
       "      <td>12.0</td>\n",
       "      <td>1.390722</td>\n",
       "      <td>30.432418</td>\n",
       "      <td>96</td>\n",
       "      <td>6.5</td>\n",
       "      <td>4</td>\n",
       "      <td>9/1/2012</td>\n",
       "      <td>B</td>\n",
       "      <td>3</td>\n",
       "    </tr>\n",
       "    <tr>\n",
       "      <th>1</th>\n",
       "      <td>2</td>\n",
       "      <td>5/26/2012</td>\n",
       "      <td>5+</td>\n",
       "      <td>F</td>\n",
       "      <td>0</td>\n",
       "      <td>0</td>\n",
       "      <td>0</td>\n",
       "      <td>0</td>\n",
       "      <td>0</td>\n",
       "      <td>0</td>\n",
       "      <td>0</td>\n",
       "      <td>0</td>\n",
       "      <td>0</td>\n",
       "      <td>0</td>\n",
       "      <td>0</td>\n",
       "      <td>9.0</td>\n",
       "      <td>4.10</td>\n",
       "      <td>136.731692</td>\n",
       "      <td>94.078507</td>\n",
       "      <td>8.0</td>\n",
       "      <td>0.943164</td>\n",
       "      <td>28.460516</td>\n",
       "      <td>61</td>\n",
       "      <td>6.5</td>\n",
       "      <td>1</td>\n",
       "      <td>6/2/2012</td>\n",
       "      <td>A</td>\n",
       "      <td>7</td>\n",
       "    </tr>\n",
       "    <tr>\n",
       "      <th>2</th>\n",
       "      <td>3</td>\n",
       "      <td>9/22/2012</td>\n",
       "      <td>1</td>\n",
       "      <td>F</td>\n",
       "      <td>0</td>\n",
       "      <td>0</td>\n",
       "      <td>0</td>\n",
       "      <td>0</td>\n",
       "      <td>0</td>\n",
       "      <td>0</td>\n",
       "      <td>0</td>\n",
       "      <td>0</td>\n",
       "      <td>0</td>\n",
       "      <td>0</td>\n",
       "      <td>0</td>\n",
       "      <td>8.4</td>\n",
       "      <td>8.90</td>\n",
       "      <td>133.058514</td>\n",
       "      <td>130.530524</td>\n",
       "      <td>12.0</td>\n",
       "      <td>1.065750</td>\n",
       "      <td>28.843812</td>\n",
       "      <td>64</td>\n",
       "      <td>6.5</td>\n",
       "      <td>2</td>\n",
       "      <td>9/25/2012</td>\n",
       "      <td>B</td>\n",
       "      <td>3</td>\n",
       "    </tr>\n",
       "    <tr>\n",
       "      <th>3</th>\n",
       "      <td>4</td>\n",
       "      <td>8/9/2012</td>\n",
       "      <td>0</td>\n",
       "      <td>F</td>\n",
       "      <td>0</td>\n",
       "      <td>0</td>\n",
       "      <td>0</td>\n",
       "      <td>0</td>\n",
       "      <td>0</td>\n",
       "      <td>0</td>\n",
       "      <td>0</td>\n",
       "      <td>0</td>\n",
       "      <td>0</td>\n",
       "      <td>0</td>\n",
       "      <td>0</td>\n",
       "      <td>11.9</td>\n",
       "      <td>9.40</td>\n",
       "      <td>138.994023</td>\n",
       "      <td>163.377028</td>\n",
       "      <td>12.0</td>\n",
       "      <td>0.906862</td>\n",
       "      <td>27.959007</td>\n",
       "      <td>76</td>\n",
       "      <td>6.5</td>\n",
       "      <td>1</td>\n",
       "      <td>8/10/2012</td>\n",
       "      <td>A</td>\n",
       "      <td>1</td>\n",
       "    </tr>\n",
       "    <tr>\n",
       "      <th>4</th>\n",
       "      <td>5</td>\n",
       "      <td>12/20/2012</td>\n",
       "      <td>0</td>\n",
       "      <td>F</td>\n",
       "      <td>0</td>\n",
       "      <td>0</td>\n",
       "      <td>0</td>\n",
       "      <td>1</td>\n",
       "      <td>0</td>\n",
       "      <td>1</td>\n",
       "      <td>0</td>\n",
       "      <td>0</td>\n",
       "      <td>0</td>\n",
       "      <td>0</td>\n",
       "      <td>0</td>\n",
       "      <td>9.1</td>\n",
       "      <td>9.05</td>\n",
       "      <td>138.634836</td>\n",
       "      <td>94.886654</td>\n",
       "      <td>11.5</td>\n",
       "      <td>1.242854</td>\n",
       "      <td>30.258927</td>\n",
       "      <td>67</td>\n",
       "      <td>5.6</td>\n",
       "      <td>2</td>\n",
       "      <td>12/24/2012</td>\n",
       "      <td>E</td>\n",
       "      <td>4</td>\n",
       "    </tr>\n",
       "  </tbody>\n",
       "</table>\n",
       "</div>"
      ],
      "text/plain": [
       "   eid       vdate rcount gender  dialysisrenalendstage  asthma  irondef  \\\n",
       "0    1   8/29/2012      0      F                      0       0        0   \n",
       "1    2   5/26/2012     5+      F                      0       0        0   \n",
       "2    3   9/22/2012      1      F                      0       0        0   \n",
       "3    4    8/9/2012      0      F                      0       0        0   \n",
       "4    5  12/20/2012      0      F                      0       0        0   \n",
       "\n",
       "   pneum  substancedependence  psychologicaldisordermajor  depress  \\\n",
       "0      0                    0                           0        0   \n",
       "1      0                    0                           0        0   \n",
       "2      0                    0                           0        0   \n",
       "3      0                    0                           0        0   \n",
       "4      1                    0                           1        0   \n",
       "\n",
       "   psychother  fibrosisandother  malnutrition  hemo  hematocrit  neutrophils  \\\n",
       "0           0                 0             0     0        11.5        14.20   \n",
       "1           0                 0             0     0         9.0         4.10   \n",
       "2           0                 0             0     0         8.4         8.90   \n",
       "3           0                 0             0     0        11.9         9.40   \n",
       "4           0                 0             0     0         9.1         9.05   \n",
       "\n",
       "       sodium     glucose  bloodureanitro  creatinine        bmi  pulse  \\\n",
       "0  140.361132  192.476918            12.0    1.390722  30.432418     96   \n",
       "1  136.731692   94.078507             8.0    0.943164  28.460516     61   \n",
       "2  133.058514  130.530524            12.0    1.065750  28.843812     64   \n",
       "3  138.994023  163.377028            12.0    0.906862  27.959007     76   \n",
       "4  138.634836   94.886654            11.5    1.242854  30.258927     67   \n",
       "\n",
       "   respiration  secondarydiagnosisnonicd9  discharged facid  lengthofstay  \n",
       "0          6.5                          4    9/1/2012     B             3  \n",
       "1          6.5                          1    6/2/2012     A             7  \n",
       "2          6.5                          2   9/25/2012     B             3  \n",
       "3          6.5                          1   8/10/2012     A             1  \n",
       "4          5.6                          2  12/24/2012     E             4  "
      ]
     },
     "execution_count": 4,
     "metadata": {},
     "output_type": "execute_result"
    }
   ],
   "source": [
    "data.head()"
   ]
  },
  {
   "cell_type": "code",
   "execution_count": 5,
   "id": "4bd43db1",
   "metadata": {},
   "outputs": [
    {
     "data": {
      "text/plain": [
       "(100000, 28)"
      ]
     },
     "execution_count": 5,
     "metadata": {},
     "output_type": "execute_result"
    }
   ],
   "source": [
    "data.shape # Checking the shape of our data"
   ]
  },
  {
   "cell_type": "code",
   "execution_count": 6,
   "id": "f1e86f5a",
   "metadata": {},
   "outputs": [
    {
     "data": {
      "text/plain": [
       "eid                           100000\n",
       "vdate                            367\n",
       "rcount                             6\n",
       "gender                             2\n",
       "dialysisrenalendstage              2\n",
       "asthma                             2\n",
       "irondef                            2\n",
       "pneum                              2\n",
       "substancedependence                2\n",
       "psychologicaldisordermajor         2\n",
       "depress                            2\n",
       "psychother                         2\n",
       "fibrosisandother                   2\n",
       "malnutrition                       2\n",
       "hemo                               2\n",
       "hematocrit                       362\n",
       "neutrophils                      656\n",
       "sodium                         99948\n",
       "glucose                        99998\n",
       "bloodureanitro                   261\n",
       "creatinine                     99994\n",
       "bmi                            99994\n",
       "pulse                            100\n",
       "respiration                      160\n",
       "secondarydiagnosisnonicd9         11\n",
       "discharged                       378\n",
       "facid                              5\n",
       "lengthofstay                      17\n",
       "dtype: int64"
      ]
     },
     "execution_count": 6,
     "metadata": {},
     "output_type": "execute_result"
    }
   ],
   "source": [
    "data.nunique() # Number of unique values per feature"
   ]
  },
  {
   "cell_type": "code",
   "execution_count": 7,
   "id": "6d7d79ab",
   "metadata": {},
   "outputs": [
    {
     "data": {
      "text/html": [
       "<div>\n",
       "<style scoped>\n",
       "    .dataframe tbody tr th:only-of-type {\n",
       "        vertical-align: middle;\n",
       "    }\n",
       "\n",
       "    .dataframe tbody tr th {\n",
       "        vertical-align: top;\n",
       "    }\n",
       "\n",
       "    .dataframe thead th {\n",
       "        text-align: right;\n",
       "    }\n",
       "</style>\n",
       "<table border=\"1\" class=\"dataframe\">\n",
       "  <thead>\n",
       "    <tr style=\"text-align: right;\">\n",
       "      <th></th>\n",
       "      <th>eid</th>\n",
       "      <th>dialysisrenalendstage</th>\n",
       "      <th>asthma</th>\n",
       "      <th>irondef</th>\n",
       "      <th>pneum</th>\n",
       "      <th>substancedependence</th>\n",
       "      <th>psychologicaldisordermajor</th>\n",
       "      <th>depress</th>\n",
       "      <th>psychother</th>\n",
       "      <th>fibrosisandother</th>\n",
       "      <th>malnutrition</th>\n",
       "      <th>hemo</th>\n",
       "      <th>hematocrit</th>\n",
       "      <th>neutrophils</th>\n",
       "      <th>sodium</th>\n",
       "      <th>glucose</th>\n",
       "      <th>bloodureanitro</th>\n",
       "      <th>creatinine</th>\n",
       "      <th>bmi</th>\n",
       "      <th>pulse</th>\n",
       "      <th>respiration</th>\n",
       "      <th>secondarydiagnosisnonicd9</th>\n",
       "      <th>lengthofstay</th>\n",
       "    </tr>\n",
       "  </thead>\n",
       "  <tbody>\n",
       "    <tr>\n",
       "      <th>eid</th>\n",
       "      <td>1.000000</td>\n",
       "      <td>0.001446</td>\n",
       "      <td>0.004973</td>\n",
       "      <td>-0.000310</td>\n",
       "      <td>0.002148</td>\n",
       "      <td>0.003328</td>\n",
       "      <td>0.009404</td>\n",
       "      <td>-0.004449</td>\n",
       "      <td>-0.001894</td>\n",
       "      <td>-0.001441</td>\n",
       "      <td>0.004593</td>\n",
       "      <td>-0.006837</td>\n",
       "      <td>0.006638</td>\n",
       "      <td>-0.005771</td>\n",
       "      <td>-0.002303</td>\n",
       "      <td>-0.002549</td>\n",
       "      <td>-0.000199</td>\n",
       "      <td>0.003292</td>\n",
       "      <td>0.002192</td>\n",
       "      <td>0.001136</td>\n",
       "      <td>0.006335</td>\n",
       "      <td>-0.002208</td>\n",
       "      <td>0.001543</td>\n",
       "    </tr>\n",
       "    <tr>\n",
       "      <th>dialysisrenalendstage</th>\n",
       "      <td>0.001446</td>\n",
       "      <td>1.000000</td>\n",
       "      <td>-0.005340</td>\n",
       "      <td>0.157381</td>\n",
       "      <td>0.120472</td>\n",
       "      <td>0.049925</td>\n",
       "      <td>0.085162</td>\n",
       "      <td>0.013229</td>\n",
       "      <td>0.311179</td>\n",
       "      <td>0.018211</td>\n",
       "      <td>0.209172</td>\n",
       "      <td>0.177411</td>\n",
       "      <td>-0.120281</td>\n",
       "      <td>-0.053125</td>\n",
       "      <td>-0.000198</td>\n",
       "      <td>-0.003199</td>\n",
       "      <td>0.272239</td>\n",
       "      <td>-0.000372</td>\n",
       "      <td>0.003331</td>\n",
       "      <td>0.003802</td>\n",
       "      <td>-0.043435</td>\n",
       "      <td>0.003251</td>\n",
       "      <td>0.169695</td>\n",
       "    </tr>\n",
       "    <tr>\n",
       "      <th>asthma</th>\n",
       "      <td>0.004973</td>\n",
       "      <td>-0.005340</td>\n",
       "      <td>1.000000</td>\n",
       "      <td>0.020001</td>\n",
       "      <td>0.058444</td>\n",
       "      <td>-0.005668</td>\n",
       "      <td>0.026300</td>\n",
       "      <td>0.026402</td>\n",
       "      <td>-0.008556</td>\n",
       "      <td>0.015787</td>\n",
       "      <td>0.008620</td>\n",
       "      <td>0.015954</td>\n",
       "      <td>-0.032994</td>\n",
       "      <td>0.016505</td>\n",
       "      <td>-0.004474</td>\n",
       "      <td>0.000641</td>\n",
       "      <td>-0.005675</td>\n",
       "      <td>-0.001479</td>\n",
       "      <td>-0.000597</td>\n",
       "      <td>0.006473</td>\n",
       "      <td>0.001910</td>\n",
       "      <td>-0.001108</td>\n",
       "      <td>0.082005</td>\n",
       "    </tr>\n",
       "    <tr>\n",
       "      <th>irondef</th>\n",
       "      <td>-0.000310</td>\n",
       "      <td>0.157381</td>\n",
       "      <td>0.020001</td>\n",
       "      <td>1.000000</td>\n",
       "      <td>0.151320</td>\n",
       "      <td>0.082848</td>\n",
       "      <td>0.127544</td>\n",
       "      <td>0.019041</td>\n",
       "      <td>0.176662</td>\n",
       "      <td>0.021999</td>\n",
       "      <td>0.300174</td>\n",
       "      <td>0.125682</td>\n",
       "      <td>-0.054934</td>\n",
       "      <td>-0.078817</td>\n",
       "      <td>-0.001443</td>\n",
       "      <td>-0.000598</td>\n",
       "      <td>0.149846</td>\n",
       "      <td>-0.010980</td>\n",
       "      <td>-0.005841</td>\n",
       "      <td>0.002803</td>\n",
       "      <td>-0.047849</td>\n",
       "      <td>0.006194</td>\n",
       "      <td>0.193838</td>\n",
       "    </tr>\n",
       "    <tr>\n",
       "      <th>pneum</th>\n",
       "      <td>0.002148</td>\n",
       "      <td>0.120472</td>\n",
       "      <td>0.058444</td>\n",
       "      <td>0.151320</td>\n",
       "      <td>1.000000</td>\n",
       "      <td>0.076131</td>\n",
       "      <td>0.089732</td>\n",
       "      <td>0.016293</td>\n",
       "      <td>0.090839</td>\n",
       "      <td>0.025374</td>\n",
       "      <td>0.133551</td>\n",
       "      <td>0.088315</td>\n",
       "      <td>-0.076968</td>\n",
       "      <td>-0.005961</td>\n",
       "      <td>-0.003280</td>\n",
       "      <td>-0.000981</td>\n",
       "      <td>0.064899</td>\n",
       "      <td>-0.001437</td>\n",
       "      <td>0.000650</td>\n",
       "      <td>0.005045</td>\n",
       "      <td>-0.055898</td>\n",
       "      <td>0.000590</td>\n",
       "      <td>0.135461</td>\n",
       "    </tr>\n",
       "    <tr>\n",
       "      <th>substancedependence</th>\n",
       "      <td>0.003328</td>\n",
       "      <td>0.049925</td>\n",
       "      <td>-0.005668</td>\n",
       "      <td>0.082848</td>\n",
       "      <td>0.076131</td>\n",
       "      <td>1.000000</td>\n",
       "      <td>0.081762</td>\n",
       "      <td>0.004690</td>\n",
       "      <td>0.087252</td>\n",
       "      <td>0.007624</td>\n",
       "      <td>0.048180</td>\n",
       "      <td>0.084697</td>\n",
       "      <td>-0.106387</td>\n",
       "      <td>-0.062084</td>\n",
       "      <td>0.001232</td>\n",
       "      <td>0.001923</td>\n",
       "      <td>0.073065</td>\n",
       "      <td>0.002481</td>\n",
       "      <td>-0.001434</td>\n",
       "      <td>0.002433</td>\n",
       "      <td>-0.058826</td>\n",
       "      <td>-0.000814</td>\n",
       "      <td>0.147886</td>\n",
       "    </tr>\n",
       "    <tr>\n",
       "      <th>psychologicaldisordermajor</th>\n",
       "      <td>0.009404</td>\n",
       "      <td>0.085162</td>\n",
       "      <td>0.026300</td>\n",
       "      <td>0.127544</td>\n",
       "      <td>0.089732</td>\n",
       "      <td>0.081762</td>\n",
       "      <td>1.000000</td>\n",
       "      <td>0.295137</td>\n",
       "      <td>0.096239</td>\n",
       "      <td>0.015112</td>\n",
       "      <td>0.119817</td>\n",
       "      <td>0.066088</td>\n",
       "      <td>0.046264</td>\n",
       "      <td>-0.119881</td>\n",
       "      <td>-0.001268</td>\n",
       "      <td>-0.003387</td>\n",
       "      <td>0.073234</td>\n",
       "      <td>-0.000066</td>\n",
       "      <td>-0.000749</td>\n",
       "      <td>0.000377</td>\n",
       "      <td>0.065988</td>\n",
       "      <td>0.005916</td>\n",
       "      <td>0.286724</td>\n",
       "    </tr>\n",
       "    <tr>\n",
       "      <th>depress</th>\n",
       "      <td>-0.004449</td>\n",
       "      <td>0.013229</td>\n",
       "      <td>0.026402</td>\n",
       "      <td>0.019041</td>\n",
       "      <td>0.016293</td>\n",
       "      <td>0.004690</td>\n",
       "      <td>0.295137</td>\n",
       "      <td>1.000000</td>\n",
       "      <td>-0.001908</td>\n",
       "      <td>0.011945</td>\n",
       "      <td>0.019038</td>\n",
       "      <td>0.027931</td>\n",
       "      <td>0.026997</td>\n",
       "      <td>-0.053935</td>\n",
       "      <td>-0.005884</td>\n",
       "      <td>0.003777</td>\n",
       "      <td>0.007889</td>\n",
       "      <td>-0.002212</td>\n",
       "      <td>0.001648</td>\n",
       "      <td>0.007289</td>\n",
       "      <td>0.040031</td>\n",
       "      <td>0.001255</td>\n",
       "      <td>0.121408</td>\n",
       "    </tr>\n",
       "    <tr>\n",
       "      <th>psychother</th>\n",
       "      <td>-0.001894</td>\n",
       "      <td>0.311179</td>\n",
       "      <td>-0.008556</td>\n",
       "      <td>0.176662</td>\n",
       "      <td>0.090839</td>\n",
       "      <td>0.087252</td>\n",
       "      <td>0.096239</td>\n",
       "      <td>-0.001908</td>\n",
       "      <td>1.000000</td>\n",
       "      <td>0.002234</td>\n",
       "      <td>0.310403</td>\n",
       "      <td>0.197482</td>\n",
       "      <td>-0.147034</td>\n",
       "      <td>-0.083957</td>\n",
       "      <td>0.000311</td>\n",
       "      <td>-0.000414</td>\n",
       "      <td>0.347354</td>\n",
       "      <td>-0.005638</td>\n",
       "      <td>0.002643</td>\n",
       "      <td>0.001140</td>\n",
       "      <td>-0.028148</td>\n",
       "      <td>0.006368</td>\n",
       "      <td>0.191695</td>\n",
       "    </tr>\n",
       "    <tr>\n",
       "      <th>fibrosisandother</th>\n",
       "      <td>-0.001441</td>\n",
       "      <td>0.018211</td>\n",
       "      <td>0.015787</td>\n",
       "      <td>0.021999</td>\n",
       "      <td>0.025374</td>\n",
       "      <td>0.007624</td>\n",
       "      <td>0.015112</td>\n",
       "      <td>0.011945</td>\n",
       "      <td>0.002234</td>\n",
       "      <td>1.000000</td>\n",
       "      <td>0.031589</td>\n",
       "      <td>0.059089</td>\n",
       "      <td>-0.057582</td>\n",
       "      <td>0.170259</td>\n",
       "      <td>0.000709</td>\n",
       "      <td>0.007347</td>\n",
       "      <td>0.021765</td>\n",
       "      <td>-0.002226</td>\n",
       "      <td>-0.004844</td>\n",
       "      <td>-0.000038</td>\n",
       "      <td>-0.038565</td>\n",
       "      <td>0.000843</td>\n",
       "      <td>0.062131</td>\n",
       "    </tr>\n",
       "    <tr>\n",
       "      <th>malnutrition</th>\n",
       "      <td>0.004593</td>\n",
       "      <td>0.209172</td>\n",
       "      <td>0.008620</td>\n",
       "      <td>0.300174</td>\n",
       "      <td>0.133551</td>\n",
       "      <td>0.048180</td>\n",
       "      <td>0.119817</td>\n",
       "      <td>0.019038</td>\n",
       "      <td>0.310403</td>\n",
       "      <td>0.031589</td>\n",
       "      <td>1.000000</td>\n",
       "      <td>0.134131</td>\n",
       "      <td>-0.085470</td>\n",
       "      <td>-0.070872</td>\n",
       "      <td>0.002080</td>\n",
       "      <td>-0.000157</td>\n",
       "      <td>0.267992</td>\n",
       "      <td>-0.004023</td>\n",
       "      <td>-0.002759</td>\n",
       "      <td>0.005217</td>\n",
       "      <td>-0.018937</td>\n",
       "      <td>0.009576</td>\n",
       "      <td>0.174397</td>\n",
       "    </tr>\n",
       "    <tr>\n",
       "      <th>hemo</th>\n",
       "      <td>-0.006837</td>\n",
       "      <td>0.177411</td>\n",
       "      <td>0.015954</td>\n",
       "      <td>0.125682</td>\n",
       "      <td>0.088315</td>\n",
       "      <td>0.084697</td>\n",
       "      <td>0.066088</td>\n",
       "      <td>0.027931</td>\n",
       "      <td>0.197482</td>\n",
       "      <td>0.059089</td>\n",
       "      <td>0.134131</td>\n",
       "      <td>1.000000</td>\n",
       "      <td>-0.316514</td>\n",
       "      <td>-0.040737</td>\n",
       "      <td>0.003227</td>\n",
       "      <td>-0.003971</td>\n",
       "      <td>0.109893</td>\n",
       "      <td>-0.001130</td>\n",
       "      <td>-0.001775</td>\n",
       "      <td>0.005638</td>\n",
       "      <td>-0.103263</td>\n",
       "      <td>-0.001069</td>\n",
       "      <td>0.217696</td>\n",
       "    </tr>\n",
       "    <tr>\n",
       "      <th>hematocrit</th>\n",
       "      <td>0.006638</td>\n",
       "      <td>-0.120281</td>\n",
       "      <td>-0.032994</td>\n",
       "      <td>-0.054934</td>\n",
       "      <td>-0.076968</td>\n",
       "      <td>-0.106387</td>\n",
       "      <td>0.046264</td>\n",
       "      <td>0.026997</td>\n",
       "      <td>-0.147034</td>\n",
       "      <td>-0.057582</td>\n",
       "      <td>-0.085470</td>\n",
       "      <td>-0.316514</td>\n",
       "      <td>1.000000</td>\n",
       "      <td>0.122385</td>\n",
       "      <td>0.002700</td>\n",
       "      <td>-0.000982</td>\n",
       "      <td>-0.073813</td>\n",
       "      <td>-0.001900</td>\n",
       "      <td>-0.002666</td>\n",
       "      <td>-0.001839</td>\n",
       "      <td>0.206028</td>\n",
       "      <td>0.001957</td>\n",
       "      <td>-0.064016</td>\n",
       "    </tr>\n",
       "    <tr>\n",
       "      <th>neutrophils</th>\n",
       "      <td>-0.005771</td>\n",
       "      <td>-0.053125</td>\n",
       "      <td>0.016505</td>\n",
       "      <td>-0.078817</td>\n",
       "      <td>-0.005961</td>\n",
       "      <td>-0.062084</td>\n",
       "      <td>-0.119881</td>\n",
       "      <td>-0.053935</td>\n",
       "      <td>-0.083957</td>\n",
       "      <td>0.170259</td>\n",
       "      <td>-0.070872</td>\n",
       "      <td>-0.040737</td>\n",
       "      <td>0.122385</td>\n",
       "      <td>1.000000</td>\n",
       "      <td>-0.000810</td>\n",
       "      <td>0.000528</td>\n",
       "      <td>-0.045316</td>\n",
       "      <td>-0.001679</td>\n",
       "      <td>-0.005275</td>\n",
       "      <td>-0.000144</td>\n",
       "      <td>-0.044416</td>\n",
       "      <td>0.002206</td>\n",
       "      <td>-0.010658</td>\n",
       "    </tr>\n",
       "    <tr>\n",
       "      <th>sodium</th>\n",
       "      <td>-0.002303</td>\n",
       "      <td>-0.000198</td>\n",
       "      <td>-0.004474</td>\n",
       "      <td>-0.001443</td>\n",
       "      <td>-0.003280</td>\n",
       "      <td>0.001232</td>\n",
       "      <td>-0.001268</td>\n",
       "      <td>-0.005884</td>\n",
       "      <td>0.000311</td>\n",
       "      <td>0.000709</td>\n",
       "      <td>0.002080</td>\n",
       "      <td>0.003227</td>\n",
       "      <td>0.002700</td>\n",
       "      <td>-0.000810</td>\n",
       "      <td>1.000000</td>\n",
       "      <td>0.002834</td>\n",
       "      <td>-0.003736</td>\n",
       "      <td>0.003037</td>\n",
       "      <td>0.001101</td>\n",
       "      <td>-0.003567</td>\n",
       "      <td>-0.001444</td>\n",
       "      <td>0.001040</td>\n",
       "      <td>-0.003546</td>\n",
       "    </tr>\n",
       "    <tr>\n",
       "      <th>glucose</th>\n",
       "      <td>-0.002549</td>\n",
       "      <td>-0.003199</td>\n",
       "      <td>0.000641</td>\n",
       "      <td>-0.000598</td>\n",
       "      <td>-0.000981</td>\n",
       "      <td>0.001923</td>\n",
       "      <td>-0.003387</td>\n",
       "      <td>0.003777</td>\n",
       "      <td>-0.000414</td>\n",
       "      <td>0.007347</td>\n",
       "      <td>-0.000157</td>\n",
       "      <td>-0.003971</td>\n",
       "      <td>-0.000982</td>\n",
       "      <td>0.000528</td>\n",
       "      <td>0.002834</td>\n",
       "      <td>1.000000</td>\n",
       "      <td>-0.002247</td>\n",
       "      <td>-0.003412</td>\n",
       "      <td>-0.000024</td>\n",
       "      <td>0.008141</td>\n",
       "      <td>-0.000431</td>\n",
       "      <td>0.002813</td>\n",
       "      <td>-0.003447</td>\n",
       "    </tr>\n",
       "    <tr>\n",
       "      <th>bloodureanitro</th>\n",
       "      <td>-0.000199</td>\n",
       "      <td>0.272239</td>\n",
       "      <td>-0.005675</td>\n",
       "      <td>0.149846</td>\n",
       "      <td>0.064899</td>\n",
       "      <td>0.073065</td>\n",
       "      <td>0.073234</td>\n",
       "      <td>0.007889</td>\n",
       "      <td>0.347354</td>\n",
       "      <td>0.021765</td>\n",
       "      <td>0.267992</td>\n",
       "      <td>0.109893</td>\n",
       "      <td>-0.073813</td>\n",
       "      <td>-0.045316</td>\n",
       "      <td>-0.003736</td>\n",
       "      <td>-0.002247</td>\n",
       "      <td>1.000000</td>\n",
       "      <td>0.000154</td>\n",
       "      <td>0.002589</td>\n",
       "      <td>0.007087</td>\n",
       "      <td>0.006773</td>\n",
       "      <td>0.001919</td>\n",
       "      <td>0.148290</td>\n",
       "    </tr>\n",
       "    <tr>\n",
       "      <th>creatinine</th>\n",
       "      <td>0.003292</td>\n",
       "      <td>-0.000372</td>\n",
       "      <td>-0.001479</td>\n",
       "      <td>-0.010980</td>\n",
       "      <td>-0.001437</td>\n",
       "      <td>0.002481</td>\n",
       "      <td>-0.000066</td>\n",
       "      <td>-0.002212</td>\n",
       "      <td>-0.005638</td>\n",
       "      <td>-0.002226</td>\n",
       "      <td>-0.004023</td>\n",
       "      <td>-0.001130</td>\n",
       "      <td>-0.001900</td>\n",
       "      <td>-0.001679</td>\n",
       "      <td>0.003037</td>\n",
       "      <td>-0.003412</td>\n",
       "      <td>0.000154</td>\n",
       "      <td>1.000000</td>\n",
       "      <td>-0.005074</td>\n",
       "      <td>-0.000620</td>\n",
       "      <td>-0.001798</td>\n",
       "      <td>-0.003675</td>\n",
       "      <td>-0.004026</td>\n",
       "    </tr>\n",
       "    <tr>\n",
       "      <th>bmi</th>\n",
       "      <td>0.002192</td>\n",
       "      <td>0.003331</td>\n",
       "      <td>-0.000597</td>\n",
       "      <td>-0.005841</td>\n",
       "      <td>0.000650</td>\n",
       "      <td>-0.001434</td>\n",
       "      <td>-0.000749</td>\n",
       "      <td>0.001648</td>\n",
       "      <td>0.002643</td>\n",
       "      <td>-0.004844</td>\n",
       "      <td>-0.002759</td>\n",
       "      <td>-0.001775</td>\n",
       "      <td>-0.002666</td>\n",
       "      <td>-0.005275</td>\n",
       "      <td>0.001101</td>\n",
       "      <td>-0.000024</td>\n",
       "      <td>0.002589</td>\n",
       "      <td>-0.005074</td>\n",
       "      <td>1.000000</td>\n",
       "      <td>-0.000934</td>\n",
       "      <td>-0.001450</td>\n",
       "      <td>-0.001691</td>\n",
       "      <td>0.000132</td>\n",
       "    </tr>\n",
       "    <tr>\n",
       "      <th>pulse</th>\n",
       "      <td>0.001136</td>\n",
       "      <td>0.003802</td>\n",
       "      <td>0.006473</td>\n",
       "      <td>0.002803</td>\n",
       "      <td>0.005045</td>\n",
       "      <td>0.002433</td>\n",
       "      <td>0.000377</td>\n",
       "      <td>0.007289</td>\n",
       "      <td>0.001140</td>\n",
       "      <td>-0.000038</td>\n",
       "      <td>0.005217</td>\n",
       "      <td>0.005638</td>\n",
       "      <td>-0.001839</td>\n",
       "      <td>-0.000144</td>\n",
       "      <td>-0.003567</td>\n",
       "      <td>0.008141</td>\n",
       "      <td>0.007087</td>\n",
       "      <td>-0.000620</td>\n",
       "      <td>-0.000934</td>\n",
       "      <td>1.000000</td>\n",
       "      <td>-0.003162</td>\n",
       "      <td>-0.003022</td>\n",
       "      <td>0.006683</td>\n",
       "    </tr>\n",
       "    <tr>\n",
       "      <th>respiration</th>\n",
       "      <td>0.006335</td>\n",
       "      <td>-0.043435</td>\n",
       "      <td>0.001910</td>\n",
       "      <td>-0.047849</td>\n",
       "      <td>-0.055898</td>\n",
       "      <td>-0.058826</td>\n",
       "      <td>0.065988</td>\n",
       "      <td>0.040031</td>\n",
       "      <td>-0.028148</td>\n",
       "      <td>-0.038565</td>\n",
       "      <td>-0.018937</td>\n",
       "      <td>-0.103263</td>\n",
       "      <td>0.206028</td>\n",
       "      <td>-0.044416</td>\n",
       "      <td>-0.001444</td>\n",
       "      <td>-0.000431</td>\n",
       "      <td>0.006773</td>\n",
       "      <td>-0.001798</td>\n",
       "      <td>-0.001450</td>\n",
       "      <td>-0.003162</td>\n",
       "      <td>1.000000</td>\n",
       "      <td>-0.000647</td>\n",
       "      <td>-0.022291</td>\n",
       "    </tr>\n",
       "    <tr>\n",
       "      <th>secondarydiagnosisnonicd9</th>\n",
       "      <td>-0.002208</td>\n",
       "      <td>0.003251</td>\n",
       "      <td>-0.001108</td>\n",
       "      <td>0.006194</td>\n",
       "      <td>0.000590</td>\n",
       "      <td>-0.000814</td>\n",
       "      <td>0.005916</td>\n",
       "      <td>0.001255</td>\n",
       "      <td>0.006368</td>\n",
       "      <td>0.000843</td>\n",
       "      <td>0.009576</td>\n",
       "      <td>-0.001069</td>\n",
       "      <td>0.001957</td>\n",
       "      <td>0.002206</td>\n",
       "      <td>0.001040</td>\n",
       "      <td>0.002813</td>\n",
       "      <td>0.001919</td>\n",
       "      <td>-0.003675</td>\n",
       "      <td>-0.001691</td>\n",
       "      <td>-0.003022</td>\n",
       "      <td>-0.000647</td>\n",
       "      <td>1.000000</td>\n",
       "      <td>0.006540</td>\n",
       "    </tr>\n",
       "    <tr>\n",
       "      <th>lengthofstay</th>\n",
       "      <td>0.001543</td>\n",
       "      <td>0.169695</td>\n",
       "      <td>0.082005</td>\n",
       "      <td>0.193838</td>\n",
       "      <td>0.135461</td>\n",
       "      <td>0.147886</td>\n",
       "      <td>0.286724</td>\n",
       "      <td>0.121408</td>\n",
       "      <td>0.191695</td>\n",
       "      <td>0.062131</td>\n",
       "      <td>0.174397</td>\n",
       "      <td>0.217696</td>\n",
       "      <td>-0.064016</td>\n",
       "      <td>-0.010658</td>\n",
       "      <td>-0.003546</td>\n",
       "      <td>-0.003447</td>\n",
       "      <td>0.148290</td>\n",
       "      <td>-0.004026</td>\n",
       "      <td>0.000132</td>\n",
       "      <td>0.006683</td>\n",
       "      <td>-0.022291</td>\n",
       "      <td>0.006540</td>\n",
       "      <td>1.000000</td>\n",
       "    </tr>\n",
       "  </tbody>\n",
       "</table>\n",
       "</div>"
      ],
      "text/plain": [
       "                                 eid  dialysisrenalendstage    asthma  \\\n",
       "eid                         1.000000               0.001446  0.004973   \n",
       "dialysisrenalendstage       0.001446               1.000000 -0.005340   \n",
       "asthma                      0.004973              -0.005340  1.000000   \n",
       "irondef                    -0.000310               0.157381  0.020001   \n",
       "pneum                       0.002148               0.120472  0.058444   \n",
       "substancedependence         0.003328               0.049925 -0.005668   \n",
       "psychologicaldisordermajor  0.009404               0.085162  0.026300   \n",
       "depress                    -0.004449               0.013229  0.026402   \n",
       "psychother                 -0.001894               0.311179 -0.008556   \n",
       "fibrosisandother           -0.001441               0.018211  0.015787   \n",
       "malnutrition                0.004593               0.209172  0.008620   \n",
       "hemo                       -0.006837               0.177411  0.015954   \n",
       "hematocrit                  0.006638              -0.120281 -0.032994   \n",
       "neutrophils                -0.005771              -0.053125  0.016505   \n",
       "sodium                     -0.002303              -0.000198 -0.004474   \n",
       "glucose                    -0.002549              -0.003199  0.000641   \n",
       "bloodureanitro             -0.000199               0.272239 -0.005675   \n",
       "creatinine                  0.003292              -0.000372 -0.001479   \n",
       "bmi                         0.002192               0.003331 -0.000597   \n",
       "pulse                       0.001136               0.003802  0.006473   \n",
       "respiration                 0.006335              -0.043435  0.001910   \n",
       "secondarydiagnosisnonicd9  -0.002208               0.003251 -0.001108   \n",
       "lengthofstay                0.001543               0.169695  0.082005   \n",
       "\n",
       "                             irondef     pneum  substancedependence  \\\n",
       "eid                        -0.000310  0.002148             0.003328   \n",
       "dialysisrenalendstage       0.157381  0.120472             0.049925   \n",
       "asthma                      0.020001  0.058444            -0.005668   \n",
       "irondef                     1.000000  0.151320             0.082848   \n",
       "pneum                       0.151320  1.000000             0.076131   \n",
       "substancedependence         0.082848  0.076131             1.000000   \n",
       "psychologicaldisordermajor  0.127544  0.089732             0.081762   \n",
       "depress                     0.019041  0.016293             0.004690   \n",
       "psychother                  0.176662  0.090839             0.087252   \n",
       "fibrosisandother            0.021999  0.025374             0.007624   \n",
       "malnutrition                0.300174  0.133551             0.048180   \n",
       "hemo                        0.125682  0.088315             0.084697   \n",
       "hematocrit                 -0.054934 -0.076968            -0.106387   \n",
       "neutrophils                -0.078817 -0.005961            -0.062084   \n",
       "sodium                     -0.001443 -0.003280             0.001232   \n",
       "glucose                    -0.000598 -0.000981             0.001923   \n",
       "bloodureanitro              0.149846  0.064899             0.073065   \n",
       "creatinine                 -0.010980 -0.001437             0.002481   \n",
       "bmi                        -0.005841  0.000650            -0.001434   \n",
       "pulse                       0.002803  0.005045             0.002433   \n",
       "respiration                -0.047849 -0.055898            -0.058826   \n",
       "secondarydiagnosisnonicd9   0.006194  0.000590            -0.000814   \n",
       "lengthofstay                0.193838  0.135461             0.147886   \n",
       "\n",
       "                            psychologicaldisordermajor   depress  psychother  \\\n",
       "eid                                           0.009404 -0.004449   -0.001894   \n",
       "dialysisrenalendstage                         0.085162  0.013229    0.311179   \n",
       "asthma                                        0.026300  0.026402   -0.008556   \n",
       "irondef                                       0.127544  0.019041    0.176662   \n",
       "pneum                                         0.089732  0.016293    0.090839   \n",
       "substancedependence                           0.081762  0.004690    0.087252   \n",
       "psychologicaldisordermajor                    1.000000  0.295137    0.096239   \n",
       "depress                                       0.295137  1.000000   -0.001908   \n",
       "psychother                                    0.096239 -0.001908    1.000000   \n",
       "fibrosisandother                              0.015112  0.011945    0.002234   \n",
       "malnutrition                                  0.119817  0.019038    0.310403   \n",
       "hemo                                          0.066088  0.027931    0.197482   \n",
       "hematocrit                                    0.046264  0.026997   -0.147034   \n",
       "neutrophils                                  -0.119881 -0.053935   -0.083957   \n",
       "sodium                                       -0.001268 -0.005884    0.000311   \n",
       "glucose                                      -0.003387  0.003777   -0.000414   \n",
       "bloodureanitro                                0.073234  0.007889    0.347354   \n",
       "creatinine                                   -0.000066 -0.002212   -0.005638   \n",
       "bmi                                          -0.000749  0.001648    0.002643   \n",
       "pulse                                         0.000377  0.007289    0.001140   \n",
       "respiration                                   0.065988  0.040031   -0.028148   \n",
       "secondarydiagnosisnonicd9                     0.005916  0.001255    0.006368   \n",
       "lengthofstay                                  0.286724  0.121408    0.191695   \n",
       "\n",
       "                            fibrosisandother  malnutrition      hemo  \\\n",
       "eid                                -0.001441      0.004593 -0.006837   \n",
       "dialysisrenalendstage               0.018211      0.209172  0.177411   \n",
       "asthma                              0.015787      0.008620  0.015954   \n",
       "irondef                             0.021999      0.300174  0.125682   \n",
       "pneum                               0.025374      0.133551  0.088315   \n",
       "substancedependence                 0.007624      0.048180  0.084697   \n",
       "psychologicaldisordermajor          0.015112      0.119817  0.066088   \n",
       "depress                             0.011945      0.019038  0.027931   \n",
       "psychother                          0.002234      0.310403  0.197482   \n",
       "fibrosisandother                    1.000000      0.031589  0.059089   \n",
       "malnutrition                        0.031589      1.000000  0.134131   \n",
       "hemo                                0.059089      0.134131  1.000000   \n",
       "hematocrit                         -0.057582     -0.085470 -0.316514   \n",
       "neutrophils                         0.170259     -0.070872 -0.040737   \n",
       "sodium                              0.000709      0.002080  0.003227   \n",
       "glucose                             0.007347     -0.000157 -0.003971   \n",
       "bloodureanitro                      0.021765      0.267992  0.109893   \n",
       "creatinine                         -0.002226     -0.004023 -0.001130   \n",
       "bmi                                -0.004844     -0.002759 -0.001775   \n",
       "pulse                              -0.000038      0.005217  0.005638   \n",
       "respiration                        -0.038565     -0.018937 -0.103263   \n",
       "secondarydiagnosisnonicd9           0.000843      0.009576 -0.001069   \n",
       "lengthofstay                        0.062131      0.174397  0.217696   \n",
       "\n",
       "                            hematocrit  neutrophils    sodium   glucose  \\\n",
       "eid                           0.006638    -0.005771 -0.002303 -0.002549   \n",
       "dialysisrenalendstage        -0.120281    -0.053125 -0.000198 -0.003199   \n",
       "asthma                       -0.032994     0.016505 -0.004474  0.000641   \n",
       "irondef                      -0.054934    -0.078817 -0.001443 -0.000598   \n",
       "pneum                        -0.076968    -0.005961 -0.003280 -0.000981   \n",
       "substancedependence          -0.106387    -0.062084  0.001232  0.001923   \n",
       "psychologicaldisordermajor    0.046264    -0.119881 -0.001268 -0.003387   \n",
       "depress                       0.026997    -0.053935 -0.005884  0.003777   \n",
       "psychother                   -0.147034    -0.083957  0.000311 -0.000414   \n",
       "fibrosisandother             -0.057582     0.170259  0.000709  0.007347   \n",
       "malnutrition                 -0.085470    -0.070872  0.002080 -0.000157   \n",
       "hemo                         -0.316514    -0.040737  0.003227 -0.003971   \n",
       "hematocrit                    1.000000     0.122385  0.002700 -0.000982   \n",
       "neutrophils                   0.122385     1.000000 -0.000810  0.000528   \n",
       "sodium                        0.002700    -0.000810  1.000000  0.002834   \n",
       "glucose                      -0.000982     0.000528  0.002834  1.000000   \n",
       "bloodureanitro               -0.073813    -0.045316 -0.003736 -0.002247   \n",
       "creatinine                   -0.001900    -0.001679  0.003037 -0.003412   \n",
       "bmi                          -0.002666    -0.005275  0.001101 -0.000024   \n",
       "pulse                        -0.001839    -0.000144 -0.003567  0.008141   \n",
       "respiration                   0.206028    -0.044416 -0.001444 -0.000431   \n",
       "secondarydiagnosisnonicd9     0.001957     0.002206  0.001040  0.002813   \n",
       "lengthofstay                 -0.064016    -0.010658 -0.003546 -0.003447   \n",
       "\n",
       "                            bloodureanitro  creatinine       bmi     pulse  \\\n",
       "eid                              -0.000199    0.003292  0.002192  0.001136   \n",
       "dialysisrenalendstage             0.272239   -0.000372  0.003331  0.003802   \n",
       "asthma                           -0.005675   -0.001479 -0.000597  0.006473   \n",
       "irondef                           0.149846   -0.010980 -0.005841  0.002803   \n",
       "pneum                             0.064899   -0.001437  0.000650  0.005045   \n",
       "substancedependence               0.073065    0.002481 -0.001434  0.002433   \n",
       "psychologicaldisordermajor        0.073234   -0.000066 -0.000749  0.000377   \n",
       "depress                           0.007889   -0.002212  0.001648  0.007289   \n",
       "psychother                        0.347354   -0.005638  0.002643  0.001140   \n",
       "fibrosisandother                  0.021765   -0.002226 -0.004844 -0.000038   \n",
       "malnutrition                      0.267992   -0.004023 -0.002759  0.005217   \n",
       "hemo                              0.109893   -0.001130 -0.001775  0.005638   \n",
       "hematocrit                       -0.073813   -0.001900 -0.002666 -0.001839   \n",
       "neutrophils                      -0.045316   -0.001679 -0.005275 -0.000144   \n",
       "sodium                           -0.003736    0.003037  0.001101 -0.003567   \n",
       "glucose                          -0.002247   -0.003412 -0.000024  0.008141   \n",
       "bloodureanitro                    1.000000    0.000154  0.002589  0.007087   \n",
       "creatinine                        0.000154    1.000000 -0.005074 -0.000620   \n",
       "bmi                               0.002589   -0.005074  1.000000 -0.000934   \n",
       "pulse                             0.007087   -0.000620 -0.000934  1.000000   \n",
       "respiration                       0.006773   -0.001798 -0.001450 -0.003162   \n",
       "secondarydiagnosisnonicd9         0.001919   -0.003675 -0.001691 -0.003022   \n",
       "lengthofstay                      0.148290   -0.004026  0.000132  0.006683   \n",
       "\n",
       "                            respiration  secondarydiagnosisnonicd9  \\\n",
       "eid                            0.006335                  -0.002208   \n",
       "dialysisrenalendstage         -0.043435                   0.003251   \n",
       "asthma                         0.001910                  -0.001108   \n",
       "irondef                       -0.047849                   0.006194   \n",
       "pneum                         -0.055898                   0.000590   \n",
       "substancedependence           -0.058826                  -0.000814   \n",
       "psychologicaldisordermajor     0.065988                   0.005916   \n",
       "depress                        0.040031                   0.001255   \n",
       "psychother                    -0.028148                   0.006368   \n",
       "fibrosisandother              -0.038565                   0.000843   \n",
       "malnutrition                  -0.018937                   0.009576   \n",
       "hemo                          -0.103263                  -0.001069   \n",
       "hematocrit                     0.206028                   0.001957   \n",
       "neutrophils                   -0.044416                   0.002206   \n",
       "sodium                        -0.001444                   0.001040   \n",
       "glucose                       -0.000431                   0.002813   \n",
       "bloodureanitro                 0.006773                   0.001919   \n",
       "creatinine                    -0.001798                  -0.003675   \n",
       "bmi                           -0.001450                  -0.001691   \n",
       "pulse                         -0.003162                  -0.003022   \n",
       "respiration                    1.000000                  -0.000647   \n",
       "secondarydiagnosisnonicd9     -0.000647                   1.000000   \n",
       "lengthofstay                  -0.022291                   0.006540   \n",
       "\n",
       "                            lengthofstay  \n",
       "eid                             0.001543  \n",
       "dialysisrenalendstage           0.169695  \n",
       "asthma                          0.082005  \n",
       "irondef                         0.193838  \n",
       "pneum                           0.135461  \n",
       "substancedependence             0.147886  \n",
       "psychologicaldisordermajor      0.286724  \n",
       "depress                         0.121408  \n",
       "psychother                      0.191695  \n",
       "fibrosisandother                0.062131  \n",
       "malnutrition                    0.174397  \n",
       "hemo                            0.217696  \n",
       "hematocrit                     -0.064016  \n",
       "neutrophils                    -0.010658  \n",
       "sodium                         -0.003546  \n",
       "glucose                        -0.003447  \n",
       "bloodureanitro                  0.148290  \n",
       "creatinine                     -0.004026  \n",
       "bmi                             0.000132  \n",
       "pulse                           0.006683  \n",
       "respiration                    -0.022291  \n",
       "secondarydiagnosisnonicd9       0.006540  \n",
       "lengthofstay                    1.000000  "
      ]
     },
     "execution_count": 7,
     "metadata": {},
     "output_type": "execute_result"
    }
   ],
   "source": [
    "data.corr() # Correlation matrix, just to give e heads up of how each feature correlated with others"
   ]
  },
  {
   "cell_type": "code",
   "execution_count": 8,
   "id": "3a5c8009",
   "metadata": {},
   "outputs": [
    {
     "data": {
      "text/plain": [
       "eid                           0\n",
       "vdate                         0\n",
       "rcount                        0\n",
       "gender                        0\n",
       "dialysisrenalendstage         0\n",
       "asthma                        0\n",
       "irondef                       0\n",
       "pneum                         0\n",
       "substancedependence           0\n",
       "psychologicaldisordermajor    0\n",
       "depress                       0\n",
       "psychother                    0\n",
       "fibrosisandother              0\n",
       "malnutrition                  0\n",
       "hemo                          0\n",
       "hematocrit                    0\n",
       "neutrophils                   0\n",
       "sodium                        0\n",
       "glucose                       0\n",
       "bloodureanitro                0\n",
       "creatinine                    0\n",
       "bmi                           0\n",
       "pulse                         0\n",
       "respiration                   0\n",
       "secondarydiagnosisnonicd9     0\n",
       "discharged                    0\n",
       "facid                         0\n",
       "lengthofstay                  0\n",
       "dtype: int64"
      ]
     },
     "execution_count": 8,
     "metadata": {},
     "output_type": "execute_result"
    }
   ],
   "source": [
    "data.isna().sum() # Checking if we have any null values in our dataset"
   ]
  },
  {
   "cell_type": "markdown",
   "id": "8e015abf",
   "metadata": {},
   "source": [
    "We have a few features that do not serve any purpose, so let use go ahead and remove them from the dataset."
   ]
  },
  {
   "cell_type": "code",
   "execution_count": 9,
   "id": "fafe647c",
   "metadata": {},
   "outputs": [],
   "source": [
    "y = data['lengthofstay'] # Isolating the Target value from all of our features"
   ]
  },
  {
   "cell_type": "code",
   "execution_count": 10,
   "id": "3cae8725",
   "metadata": {},
   "outputs": [
    {
     "data": {
      "text/plain": [
       "0    3\n",
       "1    7\n",
       "2    3\n",
       "3    1\n",
       "4    4\n",
       "Name: lengthofstay, dtype: int64"
      ]
     },
     "execution_count": 10,
     "metadata": {},
     "output_type": "execute_result"
    }
   ],
   "source": [
    "y.head() # Double checking Target values"
   ]
  },
  {
   "cell_type": "code",
   "execution_count": 11,
   "id": "f00fa2fe",
   "metadata": {},
   "outputs": [],
   "source": [
    "x = data.drop(['eid', 'vdate', 'discharged', 'lengthofstay'], axis=1) # Dropping the un-necessary features"
   ]
  },
  {
   "cell_type": "code",
   "execution_count": 12,
   "id": "73d2c356",
   "metadata": {},
   "outputs": [
    {
     "data": {
      "text/html": [
       "<div>\n",
       "<style scoped>\n",
       "    .dataframe tbody tr th:only-of-type {\n",
       "        vertical-align: middle;\n",
       "    }\n",
       "\n",
       "    .dataframe tbody tr th {\n",
       "        vertical-align: top;\n",
       "    }\n",
       "\n",
       "    .dataframe thead th {\n",
       "        text-align: right;\n",
       "    }\n",
       "</style>\n",
       "<table border=\"1\" class=\"dataframe\">\n",
       "  <thead>\n",
       "    <tr style=\"text-align: right;\">\n",
       "      <th></th>\n",
       "      <th>rcount</th>\n",
       "      <th>gender</th>\n",
       "      <th>dialysisrenalendstage</th>\n",
       "      <th>asthma</th>\n",
       "      <th>irondef</th>\n",
       "      <th>pneum</th>\n",
       "      <th>substancedependence</th>\n",
       "      <th>psychologicaldisordermajor</th>\n",
       "      <th>depress</th>\n",
       "      <th>psychother</th>\n",
       "      <th>fibrosisandother</th>\n",
       "      <th>malnutrition</th>\n",
       "      <th>hemo</th>\n",
       "      <th>hematocrit</th>\n",
       "      <th>neutrophils</th>\n",
       "      <th>sodium</th>\n",
       "      <th>glucose</th>\n",
       "      <th>bloodureanitro</th>\n",
       "      <th>creatinine</th>\n",
       "      <th>bmi</th>\n",
       "      <th>pulse</th>\n",
       "      <th>respiration</th>\n",
       "      <th>secondarydiagnosisnonicd9</th>\n",
       "      <th>facid</th>\n",
       "    </tr>\n",
       "  </thead>\n",
       "  <tbody>\n",
       "    <tr>\n",
       "      <th>0</th>\n",
       "      <td>0</td>\n",
       "      <td>F</td>\n",
       "      <td>0</td>\n",
       "      <td>0</td>\n",
       "      <td>0</td>\n",
       "      <td>0</td>\n",
       "      <td>0</td>\n",
       "      <td>0</td>\n",
       "      <td>0</td>\n",
       "      <td>0</td>\n",
       "      <td>0</td>\n",
       "      <td>0</td>\n",
       "      <td>0</td>\n",
       "      <td>11.5</td>\n",
       "      <td>14.20</td>\n",
       "      <td>140.361132</td>\n",
       "      <td>192.476918</td>\n",
       "      <td>12.0</td>\n",
       "      <td>1.390722</td>\n",
       "      <td>30.432418</td>\n",
       "      <td>96</td>\n",
       "      <td>6.5</td>\n",
       "      <td>4</td>\n",
       "      <td>B</td>\n",
       "    </tr>\n",
       "    <tr>\n",
       "      <th>1</th>\n",
       "      <td>5+</td>\n",
       "      <td>F</td>\n",
       "      <td>0</td>\n",
       "      <td>0</td>\n",
       "      <td>0</td>\n",
       "      <td>0</td>\n",
       "      <td>0</td>\n",
       "      <td>0</td>\n",
       "      <td>0</td>\n",
       "      <td>0</td>\n",
       "      <td>0</td>\n",
       "      <td>0</td>\n",
       "      <td>0</td>\n",
       "      <td>9.0</td>\n",
       "      <td>4.10</td>\n",
       "      <td>136.731692</td>\n",
       "      <td>94.078507</td>\n",
       "      <td>8.0</td>\n",
       "      <td>0.943164</td>\n",
       "      <td>28.460516</td>\n",
       "      <td>61</td>\n",
       "      <td>6.5</td>\n",
       "      <td>1</td>\n",
       "      <td>A</td>\n",
       "    </tr>\n",
       "    <tr>\n",
       "      <th>2</th>\n",
       "      <td>1</td>\n",
       "      <td>F</td>\n",
       "      <td>0</td>\n",
       "      <td>0</td>\n",
       "      <td>0</td>\n",
       "      <td>0</td>\n",
       "      <td>0</td>\n",
       "      <td>0</td>\n",
       "      <td>0</td>\n",
       "      <td>0</td>\n",
       "      <td>0</td>\n",
       "      <td>0</td>\n",
       "      <td>0</td>\n",
       "      <td>8.4</td>\n",
       "      <td>8.90</td>\n",
       "      <td>133.058514</td>\n",
       "      <td>130.530524</td>\n",
       "      <td>12.0</td>\n",
       "      <td>1.065750</td>\n",
       "      <td>28.843812</td>\n",
       "      <td>64</td>\n",
       "      <td>6.5</td>\n",
       "      <td>2</td>\n",
       "      <td>B</td>\n",
       "    </tr>\n",
       "    <tr>\n",
       "      <th>3</th>\n",
       "      <td>0</td>\n",
       "      <td>F</td>\n",
       "      <td>0</td>\n",
       "      <td>0</td>\n",
       "      <td>0</td>\n",
       "      <td>0</td>\n",
       "      <td>0</td>\n",
       "      <td>0</td>\n",
       "      <td>0</td>\n",
       "      <td>0</td>\n",
       "      <td>0</td>\n",
       "      <td>0</td>\n",
       "      <td>0</td>\n",
       "      <td>11.9</td>\n",
       "      <td>9.40</td>\n",
       "      <td>138.994023</td>\n",
       "      <td>163.377028</td>\n",
       "      <td>12.0</td>\n",
       "      <td>0.906862</td>\n",
       "      <td>27.959007</td>\n",
       "      <td>76</td>\n",
       "      <td>6.5</td>\n",
       "      <td>1</td>\n",
       "      <td>A</td>\n",
       "    </tr>\n",
       "    <tr>\n",
       "      <th>4</th>\n",
       "      <td>0</td>\n",
       "      <td>F</td>\n",
       "      <td>0</td>\n",
       "      <td>0</td>\n",
       "      <td>0</td>\n",
       "      <td>1</td>\n",
       "      <td>0</td>\n",
       "      <td>1</td>\n",
       "      <td>0</td>\n",
       "      <td>0</td>\n",
       "      <td>0</td>\n",
       "      <td>0</td>\n",
       "      <td>0</td>\n",
       "      <td>9.1</td>\n",
       "      <td>9.05</td>\n",
       "      <td>138.634836</td>\n",
       "      <td>94.886654</td>\n",
       "      <td>11.5</td>\n",
       "      <td>1.242854</td>\n",
       "      <td>30.258927</td>\n",
       "      <td>67</td>\n",
       "      <td>5.6</td>\n",
       "      <td>2</td>\n",
       "      <td>E</td>\n",
       "    </tr>\n",
       "  </tbody>\n",
       "</table>\n",
       "</div>"
      ],
      "text/plain": [
       "  rcount gender  dialysisrenalendstage  asthma  irondef  pneum  \\\n",
       "0      0      F                      0       0        0      0   \n",
       "1     5+      F                      0       0        0      0   \n",
       "2      1      F                      0       0        0      0   \n",
       "3      0      F                      0       0        0      0   \n",
       "4      0      F                      0       0        0      1   \n",
       "\n",
       "   substancedependence  psychologicaldisordermajor  depress  psychother  \\\n",
       "0                    0                           0        0           0   \n",
       "1                    0                           0        0           0   \n",
       "2                    0                           0        0           0   \n",
       "3                    0                           0        0           0   \n",
       "4                    0                           1        0           0   \n",
       "\n",
       "   fibrosisandother  malnutrition  hemo  hematocrit  neutrophils      sodium  \\\n",
       "0                 0             0     0        11.5        14.20  140.361132   \n",
       "1                 0             0     0         9.0         4.10  136.731692   \n",
       "2                 0             0     0         8.4         8.90  133.058514   \n",
       "3                 0             0     0        11.9         9.40  138.994023   \n",
       "4                 0             0     0         9.1         9.05  138.634836   \n",
       "\n",
       "      glucose  bloodureanitro  creatinine        bmi  pulse  respiration  \\\n",
       "0  192.476918            12.0    1.390722  30.432418     96          6.5   \n",
       "1   94.078507             8.0    0.943164  28.460516     61          6.5   \n",
       "2  130.530524            12.0    1.065750  28.843812     64          6.5   \n",
       "3  163.377028            12.0    0.906862  27.959007     76          6.5   \n",
       "4   94.886654            11.5    1.242854  30.258927     67          5.6   \n",
       "\n",
       "   secondarydiagnosisnonicd9 facid  \n",
       "0                          4     B  \n",
       "1                          1     A  \n",
       "2                          2     B  \n",
       "3                          1     A  \n",
       "4                          2     E  "
      ]
     },
     "execution_count": 12,
     "metadata": {},
     "output_type": "execute_result"
    }
   ],
   "source": [
    "x.head()  # Making sure the features are dropped"
   ]
  },
  {
   "cell_type": "markdown",
   "id": "5f4bc37b",
   "metadata": {},
   "source": [
    "If we look at the features above, we can say that we have two features that are non-numeric. We will have to convert them to into numeric features. One way to do it is to use the get_dummies() in pandas library."
   ]
  },
  {
   "cell_type": "code",
   "execution_count": 13,
   "id": "1a92793e",
   "metadata": {},
   "outputs": [],
   "source": [
    "dummies = pd.get_dummies(x[['gender','facid']], dtype=int, drop_first=True) "
   ]
  },
  {
   "cell_type": "markdown",
   "id": "577e2abc",
   "metadata": {},
   "source": [
    "We are converting the string type to integer type and also dropping the original features, since we no longer need them."
   ]
  },
  {
   "cell_type": "code",
   "execution_count": 14,
   "id": "110314f1",
   "metadata": {},
   "outputs": [],
   "source": [
    "x = pd.concat([x.drop(['gender', 'facid'], axis = 1), dummies], axis=1)"
   ]
  },
  {
   "cell_type": "markdown",
   "id": "672a0b01",
   "metadata": {},
   "source": [
    "Dropped the orignial features and added the dummies to the orignial feature set."
   ]
  },
  {
   "cell_type": "code",
   "execution_count": 15,
   "id": "fbf2f12d",
   "metadata": {},
   "outputs": [
    {
     "data": {
      "text/html": [
       "<div>\n",
       "<style scoped>\n",
       "    .dataframe tbody tr th:only-of-type {\n",
       "        vertical-align: middle;\n",
       "    }\n",
       "\n",
       "    .dataframe tbody tr th {\n",
       "        vertical-align: top;\n",
       "    }\n",
       "\n",
       "    .dataframe thead th {\n",
       "        text-align: right;\n",
       "    }\n",
       "</style>\n",
       "<table border=\"1\" class=\"dataframe\">\n",
       "  <thead>\n",
       "    <tr style=\"text-align: right;\">\n",
       "      <th></th>\n",
       "      <th>rcount</th>\n",
       "      <th>dialysisrenalendstage</th>\n",
       "      <th>asthma</th>\n",
       "      <th>irondef</th>\n",
       "      <th>pneum</th>\n",
       "      <th>substancedependence</th>\n",
       "      <th>psychologicaldisordermajor</th>\n",
       "      <th>depress</th>\n",
       "      <th>psychother</th>\n",
       "      <th>fibrosisandother</th>\n",
       "      <th>malnutrition</th>\n",
       "      <th>hemo</th>\n",
       "      <th>hematocrit</th>\n",
       "      <th>neutrophils</th>\n",
       "      <th>sodium</th>\n",
       "      <th>glucose</th>\n",
       "      <th>bloodureanitro</th>\n",
       "      <th>creatinine</th>\n",
       "      <th>bmi</th>\n",
       "      <th>pulse</th>\n",
       "      <th>respiration</th>\n",
       "      <th>secondarydiagnosisnonicd9</th>\n",
       "      <th>gender_M</th>\n",
       "      <th>facid_B</th>\n",
       "      <th>facid_C</th>\n",
       "      <th>facid_D</th>\n",
       "      <th>facid_E</th>\n",
       "    </tr>\n",
       "  </thead>\n",
       "  <tbody>\n",
       "    <tr>\n",
       "      <th>0</th>\n",
       "      <td>0</td>\n",
       "      <td>0</td>\n",
       "      <td>0</td>\n",
       "      <td>0</td>\n",
       "      <td>0</td>\n",
       "      <td>0</td>\n",
       "      <td>0</td>\n",
       "      <td>0</td>\n",
       "      <td>0</td>\n",
       "      <td>0</td>\n",
       "      <td>0</td>\n",
       "      <td>0</td>\n",
       "      <td>11.5</td>\n",
       "      <td>14.20</td>\n",
       "      <td>140.361132</td>\n",
       "      <td>192.476918</td>\n",
       "      <td>12.0</td>\n",
       "      <td>1.390722</td>\n",
       "      <td>30.432418</td>\n",
       "      <td>96</td>\n",
       "      <td>6.5</td>\n",
       "      <td>4</td>\n",
       "      <td>0</td>\n",
       "      <td>1</td>\n",
       "      <td>0</td>\n",
       "      <td>0</td>\n",
       "      <td>0</td>\n",
       "    </tr>\n",
       "    <tr>\n",
       "      <th>1</th>\n",
       "      <td>5+</td>\n",
       "      <td>0</td>\n",
       "      <td>0</td>\n",
       "      <td>0</td>\n",
       "      <td>0</td>\n",
       "      <td>0</td>\n",
       "      <td>0</td>\n",
       "      <td>0</td>\n",
       "      <td>0</td>\n",
       "      <td>0</td>\n",
       "      <td>0</td>\n",
       "      <td>0</td>\n",
       "      <td>9.0</td>\n",
       "      <td>4.10</td>\n",
       "      <td>136.731692</td>\n",
       "      <td>94.078507</td>\n",
       "      <td>8.0</td>\n",
       "      <td>0.943164</td>\n",
       "      <td>28.460516</td>\n",
       "      <td>61</td>\n",
       "      <td>6.5</td>\n",
       "      <td>1</td>\n",
       "      <td>0</td>\n",
       "      <td>0</td>\n",
       "      <td>0</td>\n",
       "      <td>0</td>\n",
       "      <td>0</td>\n",
       "    </tr>\n",
       "    <tr>\n",
       "      <th>2</th>\n",
       "      <td>1</td>\n",
       "      <td>0</td>\n",
       "      <td>0</td>\n",
       "      <td>0</td>\n",
       "      <td>0</td>\n",
       "      <td>0</td>\n",
       "      <td>0</td>\n",
       "      <td>0</td>\n",
       "      <td>0</td>\n",
       "      <td>0</td>\n",
       "      <td>0</td>\n",
       "      <td>0</td>\n",
       "      <td>8.4</td>\n",
       "      <td>8.90</td>\n",
       "      <td>133.058514</td>\n",
       "      <td>130.530524</td>\n",
       "      <td>12.0</td>\n",
       "      <td>1.065750</td>\n",
       "      <td>28.843812</td>\n",
       "      <td>64</td>\n",
       "      <td>6.5</td>\n",
       "      <td>2</td>\n",
       "      <td>0</td>\n",
       "      <td>1</td>\n",
       "      <td>0</td>\n",
       "      <td>0</td>\n",
       "      <td>0</td>\n",
       "    </tr>\n",
       "    <tr>\n",
       "      <th>3</th>\n",
       "      <td>0</td>\n",
       "      <td>0</td>\n",
       "      <td>0</td>\n",
       "      <td>0</td>\n",
       "      <td>0</td>\n",
       "      <td>0</td>\n",
       "      <td>0</td>\n",
       "      <td>0</td>\n",
       "      <td>0</td>\n",
       "      <td>0</td>\n",
       "      <td>0</td>\n",
       "      <td>0</td>\n",
       "      <td>11.9</td>\n",
       "      <td>9.40</td>\n",
       "      <td>138.994023</td>\n",
       "      <td>163.377028</td>\n",
       "      <td>12.0</td>\n",
       "      <td>0.906862</td>\n",
       "      <td>27.959007</td>\n",
       "      <td>76</td>\n",
       "      <td>6.5</td>\n",
       "      <td>1</td>\n",
       "      <td>0</td>\n",
       "      <td>0</td>\n",
       "      <td>0</td>\n",
       "      <td>0</td>\n",
       "      <td>0</td>\n",
       "    </tr>\n",
       "    <tr>\n",
       "      <th>4</th>\n",
       "      <td>0</td>\n",
       "      <td>0</td>\n",
       "      <td>0</td>\n",
       "      <td>0</td>\n",
       "      <td>1</td>\n",
       "      <td>0</td>\n",
       "      <td>1</td>\n",
       "      <td>0</td>\n",
       "      <td>0</td>\n",
       "      <td>0</td>\n",
       "      <td>0</td>\n",
       "      <td>0</td>\n",
       "      <td>9.1</td>\n",
       "      <td>9.05</td>\n",
       "      <td>138.634836</td>\n",
       "      <td>94.886654</td>\n",
       "      <td>11.5</td>\n",
       "      <td>1.242854</td>\n",
       "      <td>30.258927</td>\n",
       "      <td>67</td>\n",
       "      <td>5.6</td>\n",
       "      <td>2</td>\n",
       "      <td>0</td>\n",
       "      <td>0</td>\n",
       "      <td>0</td>\n",
       "      <td>0</td>\n",
       "      <td>1</td>\n",
       "    </tr>\n",
       "  </tbody>\n",
       "</table>\n",
       "</div>"
      ],
      "text/plain": [
       "  rcount  dialysisrenalendstage  asthma  irondef  pneum  substancedependence  \\\n",
       "0      0                      0       0        0      0                    0   \n",
       "1     5+                      0       0        0      0                    0   \n",
       "2      1                      0       0        0      0                    0   \n",
       "3      0                      0       0        0      0                    0   \n",
       "4      0                      0       0        0      1                    0   \n",
       "\n",
       "   psychologicaldisordermajor  depress  psychother  fibrosisandother  \\\n",
       "0                           0        0           0                 0   \n",
       "1                           0        0           0                 0   \n",
       "2                           0        0           0                 0   \n",
       "3                           0        0           0                 0   \n",
       "4                           1        0           0                 0   \n",
       "\n",
       "   malnutrition  hemo  hematocrit  neutrophils      sodium     glucose  \\\n",
       "0             0     0        11.5        14.20  140.361132  192.476918   \n",
       "1             0     0         9.0         4.10  136.731692   94.078507   \n",
       "2             0     0         8.4         8.90  133.058514  130.530524   \n",
       "3             0     0        11.9         9.40  138.994023  163.377028   \n",
       "4             0     0         9.1         9.05  138.634836   94.886654   \n",
       "\n",
       "   bloodureanitro  creatinine        bmi  pulse  respiration  \\\n",
       "0            12.0    1.390722  30.432418     96          6.5   \n",
       "1             8.0    0.943164  28.460516     61          6.5   \n",
       "2            12.0    1.065750  28.843812     64          6.5   \n",
       "3            12.0    0.906862  27.959007     76          6.5   \n",
       "4            11.5    1.242854  30.258927     67          5.6   \n",
       "\n",
       "   secondarydiagnosisnonicd9  gender_M  facid_B  facid_C  facid_D  facid_E  \n",
       "0                          4         0        1        0        0        0  \n",
       "1                          1         0        0        0        0        0  \n",
       "2                          2         0        1        0        0        0  \n",
       "3                          1         0        0        0        0        0  \n",
       "4                          2         0        0        0        0        1  "
      ]
     },
     "execution_count": 15,
     "metadata": {},
     "output_type": "execute_result"
    }
   ],
   "source": [
    "x.head()"
   ]
  },
  {
   "cell_type": "code",
   "execution_count": 16,
   "id": "7a6dff4e",
   "metadata": {},
   "outputs": [
    {
     "data": {
      "text/plain": [
       "rcount                         object\n",
       "dialysisrenalendstage           int64\n",
       "asthma                          int64\n",
       "irondef                         int64\n",
       "pneum                           int64\n",
       "substancedependence             int64\n",
       "psychologicaldisordermajor      int64\n",
       "depress                         int64\n",
       "psychother                      int64\n",
       "fibrosisandother                int64\n",
       "malnutrition                    int64\n",
       "hemo                            int64\n",
       "hematocrit                    float64\n",
       "neutrophils                   float64\n",
       "sodium                        float64\n",
       "glucose                       float64\n",
       "bloodureanitro                float64\n",
       "creatinine                    float64\n",
       "bmi                           float64\n",
       "pulse                           int64\n",
       "respiration                   float64\n",
       "secondarydiagnosisnonicd9       int64\n",
       "gender_M                        int64\n",
       "facid_B                         int64\n",
       "facid_C                         int64\n",
       "facid_D                         int64\n",
       "facid_E                         int64\n",
       "dtype: object"
      ]
     },
     "execution_count": 16,
     "metadata": {},
     "output_type": "execute_result"
    }
   ],
   "source": [
    "x.dtypes # Re-checking all the datatypes "
   ]
  },
  {
   "cell_type": "markdown",
   "id": "eacfe823",
   "metadata": {},
   "source": [
    "Oops! Looks like we missed one more feature <b>rcount</b>. Let us take a look at it."
   ]
  },
  {
   "cell_type": "code",
   "execution_count": 17,
   "id": "075ed59b",
   "metadata": {},
   "outputs": [
    {
     "data": {
      "text/plain": [
       "0     55031\n",
       "1     15007\n",
       "2      9987\n",
       "3      8047\n",
       "4      6941\n",
       "5+     4987\n",
       "Name: rcount, dtype: int64"
      ]
     },
     "execution_count": 17,
     "metadata": {},
     "output_type": "execute_result"
    }
   ],
   "source": [
    "x.rcount.value_counts()"
   ]
  },
  {
   "cell_type": "markdown",
   "id": "2f96a34c",
   "metadata": {},
   "source": [
    "Looks like we can still have a single feature for <b>rcount</b>, if we can find a way to convert the <b>5+</b> to integer. We can do one thing, we can replace <b>5+</b> with <b>5</b>, so that we will be able to convert the feature to integer."
   ]
  },
  {
   "cell_type": "code",
   "execution_count": 18,
   "id": "a6069dc1",
   "metadata": {},
   "outputs": [],
   "source": [
    "x.rcount = x.rcount.replace('5+', '5') # Replacing 5+ with 5"
   ]
  },
  {
   "cell_type": "code",
   "execution_count": 19,
   "id": "54abf8d0",
   "metadata": {},
   "outputs": [
    {
     "data": {
      "text/plain": [
       "0    55031\n",
       "1    15007\n",
       "2     9987\n",
       "3     8047\n",
       "4     6941\n",
       "5     4987\n",
       "Name: rcount, dtype: int64"
      ]
     },
     "execution_count": 19,
     "metadata": {},
     "output_type": "execute_result"
    }
   ],
   "source": [
    "x.rcount.value_counts() # Checking the counts to confirm replacement"
   ]
  },
  {
   "cell_type": "code",
   "execution_count": 20,
   "id": "7f527bba",
   "metadata": {},
   "outputs": [],
   "source": [
    "x.rcount = x.rcount.astype('int') # Converting rcount to integer type"
   ]
  },
  {
   "cell_type": "code",
   "execution_count": 21,
   "id": "1e70ff37",
   "metadata": {},
   "outputs": [
    {
     "data": {
      "text/plain": [
       "rcount                          int64\n",
       "dialysisrenalendstage           int64\n",
       "asthma                          int64\n",
       "irondef                         int64\n",
       "pneum                           int64\n",
       "substancedependence             int64\n",
       "psychologicaldisordermajor      int64\n",
       "depress                         int64\n",
       "psychother                      int64\n",
       "fibrosisandother                int64\n",
       "malnutrition                    int64\n",
       "hemo                            int64\n",
       "hematocrit                    float64\n",
       "neutrophils                   float64\n",
       "sodium                        float64\n",
       "glucose                       float64\n",
       "bloodureanitro                float64\n",
       "creatinine                    float64\n",
       "bmi                           float64\n",
       "pulse                           int64\n",
       "respiration                   float64\n",
       "secondarydiagnosisnonicd9       int64\n",
       "gender_M                        int64\n",
       "facid_B                         int64\n",
       "facid_C                         int64\n",
       "facid_D                         int64\n",
       "facid_E                         int64\n",
       "dtype: object"
      ]
     },
     "execution_count": 21,
     "metadata": {},
     "output_type": "execute_result"
    }
   ],
   "source": [
    "x.dtypes # Making sure we do not have any more object types before proceeding "
   ]
  },
  {
   "cell_type": "markdown",
   "id": "87646336",
   "metadata": {},
   "source": [
    "## Linear Regression with Sklearn Library"
   ]
  },
  {
   "cell_type": "code",
   "execution_count": 22,
   "id": "5d1f46d6",
   "metadata": {},
   "outputs": [],
   "source": [
    "from sklearn.model_selection import train_test_split\n",
    "from sklearn.linear_model import LinearRegression\n",
    "from sklearn.preprocessing import StandardScaler"
   ]
  },
  {
   "cell_type": "markdown",
   "id": "d548455e",
   "metadata": {},
   "source": [
    "We are going to split the data into two set, train and test. This is to ensure that our testing data is not seen by our model already and this way we will know how good our model performs in the real world."
   ]
  },
  {
   "cell_type": "code",
   "execution_count": 23,
   "id": "5e126574",
   "metadata": {},
   "outputs": [],
   "source": [
    "x_train, x_test, y_train, y_test = train_test_split(x, y, test_size=0.35, random_state=42)"
   ]
  },
  {
   "cell_type": "markdown",
   "id": "5b2d0968",
   "metadata": {},
   "source": [
    "Scaling the data, so that there are no major difference in values between the features. When we do not scale the data, the gradient descent takes longer to converge to the minima, because of these value diffrences."
   ]
  },
  {
   "cell_type": "code",
   "execution_count": 24,
   "id": "6b0e32c7",
   "metadata": {},
   "outputs": [],
   "source": [
    "scaler = StandardScaler()\n",
    "X_scaled = scaler.fit_transform(x_train) \n",
    "test_scaled = scaler.transform(x_test) "
   ]
  },
  {
   "cell_type": "markdown",
   "id": "ee01dd4d",
   "metadata": {},
   "source": [
    "We have to make sure we scale both the training and testing set, so that we do not get false results."
   ]
  },
  {
   "cell_type": "code",
   "execution_count": 25,
   "id": "e675339f",
   "metadata": {},
   "outputs": [],
   "source": [
    "lr = LinearRegression() # creating an instance for linear regression"
   ]
  },
  {
   "cell_type": "code",
   "execution_count": 26,
   "id": "9764eb1e",
   "metadata": {},
   "outputs": [
    {
     "data": {
      "text/plain": [
       "LinearRegression()"
      ]
     },
     "execution_count": 26,
     "metadata": {},
     "output_type": "execute_result"
    }
   ],
   "source": [
    "lr.fit(X_scaled, y_train) # Fitting the scaled training data with our linear regression instance"
   ]
  },
  {
   "cell_type": "code",
   "execution_count": 27,
   "id": "4fde7df9",
   "metadata": {},
   "outputs": [
    {
     "data": {
      "text/plain": [
       "0.7611322693943473"
      ]
     },
     "execution_count": 27,
     "metadata": {},
     "output_type": "execute_result"
    }
   ],
   "source": [
    "lr.score(X_scaled, y_train) # R2 score for training data"
   ]
  },
  {
   "cell_type": "code",
   "execution_count": 28,
   "id": "d6be07c6",
   "metadata": {},
   "outputs": [
    {
     "data": {
      "text/plain": [
       "0.7634993373457424"
      ]
     },
     "execution_count": 28,
     "metadata": {},
     "output_type": "execute_result"
    }
   ],
   "source": [
    "lr.score(test_scaled, y_test) # R2 score for testing data"
   ]
  },
  {
   "cell_type": "markdown",
   "id": "a697a3da",
   "metadata": {},
   "source": [
    "Looking at both the R2 (R square) values for both training and testing of scaled data, we can say that our model fits the training data well and also performs on the same level in unseen data as well."
   ]
  },
  {
   "cell_type": "markdown",
   "id": "2fe7c5f5",
   "metadata": {},
   "source": [
    "### Linear Regression with unscaled data"
   ]
  },
  {
   "cell_type": "markdown",
   "id": "793fea38",
   "metadata": {},
   "source": [
    "Let us also take a look at how linear regression with unscaled data performs."
   ]
  },
  {
   "cell_type": "code",
   "execution_count": 29,
   "id": "1c6523c4",
   "metadata": {},
   "outputs": [],
   "source": [
    "lr_unscaled = LinearRegression() # Creating another instance for unscaled linear regression"
   ]
  },
  {
   "cell_type": "code",
   "execution_count": 30,
   "id": "c5837f4b",
   "metadata": {},
   "outputs": [
    {
     "data": {
      "text/plain": [
       "LinearRegression()"
      ]
     },
     "execution_count": 30,
     "metadata": {},
     "output_type": "execute_result"
    }
   ],
   "source": [
    "lr_unscaled.fit(x_train, y_train) # Fitting the unscaled training data with our linear regression instance"
   ]
  },
  {
   "cell_type": "code",
   "execution_count": 31,
   "id": "f16e7903",
   "metadata": {},
   "outputs": [
    {
     "data": {
      "text/plain": [
       "0.7611322693943474"
      ]
     },
     "execution_count": 31,
     "metadata": {},
     "output_type": "execute_result"
    }
   ],
   "source": [
    "lr_unscaled.score(x_train, y_train) # R2 score for unscaled training data"
   ]
  },
  {
   "cell_type": "code",
   "execution_count": 32,
   "id": "3e1662ec",
   "metadata": {},
   "outputs": [
    {
     "data": {
      "text/plain": [
       "0.7634993373457422"
      ]
     },
     "execution_count": 32,
     "metadata": {},
     "output_type": "execute_result"
    }
   ],
   "source": [
    "lr_unscaled.score(x_test, y_test) # R2 score for unscaled testing data"
   ]
  },
  {
   "cell_type": "markdown",
   "id": "e71bbb1c",
   "metadata": {},
   "source": [
    "<p><b>Looks like the results of scaled and unscaled data are the same, why do we need to scale it if there is not going to be any change in the results?</b></p>\n",
    "<p>LinearRegression scales the data internally even if we do not manually do it. But when we scale it manually, it skips scaling automatically and hence the results observed are going to be the same with or without scaling when using regular Linear Regression using sklearn</p>"
   ]
  },
  {
   "cell_type": "markdown",
   "id": "ce74a253",
   "metadata": {},
   "source": [
    "## Complete Implementation of Linear Regression using cost and gradient descent"
   ]
  },
  {
   "cell_type": "markdown",
   "id": "44aa4faf",
   "metadata": {},
   "source": [
    "### Cost Function:"
   ]
  },
  {
   "cell_type": "markdown",
   "id": "6ade2ddb",
   "metadata": {},
   "source": [
    "First, we are going to write the cost function, which in simple terms how well our model predictions (x @ w + b) match the target values (y). Here @ stands for matrix multiplication."
   ]
  },
  {
   "cell_type": "code",
   "execution_count": 35,
   "id": "251b3880",
   "metadata": {},
   "outputs": [],
   "source": [
    "def compute_cost(w, b, X, y):\n",
    "    \"\"\"\n",
    "    Parameters:\n",
    "    w : numpy.ndarray shape (n_features,)\n",
    "    b : float\n",
    "    X : pandas.DataFrame or numpy.ndarray shape (m,n_features)\n",
    "    y : pandas.Series or numpy.ndarray shape (m,)\n",
    "    \"\"\"\n",
    "    # Convert to NumPy arrays (works for both pandas and numpy inputs)\n",
    "    X = np.asarray(X)\n",
    "    y = np.asarray(y).flatten()  # Ensure y is 1D\n",
    "    w = np.asarray(w).flatten()  # Ensure w is 1D\n",
    "    \n",
    "    # Vectorized computation\n",
    "    predictions = X @ w + b\n",
    "    cost = np.sum((predictions - y)**2) / (2*len(y))\n",
    "    return cost\n",
    "\n",
    "# Usage\n",
    "currentCost = compute_cost(weights, bias, x_train, y_train)"
   ]
  },
  {
   "cell_type": "markdown",
   "id": "8d3602d6",
   "metadata": {},
   "source": [
    "<ul>\n",
    "    <li>The x, y and w are converted to numpy arrays, because numpy supports vectorized computation, which uses parallel processing and thus computing time will be drastically reduced compared to loops</li>\n",
    "   <li>Since we already do not have the weight(w) and bias(b) variables, we would need to create them.</li>\n",
    "    <li>The weights would be a 1-D array and the number of weights should be equal to the number of features we have. We will just create a 0 array using np.zeros()</li>\n",
    "</ul>"
   ]
  },
  {
   "cell_type": "code",
   "execution_count": 36,
   "id": "dd69b366",
   "metadata": {},
   "outputs": [],
   "source": [
    "weights = np.zeros(x.shape[1]) # Initializing weights vector with 0s equal to the number of features we have.\n",
    "bias = 0.5 # Initializing bias to a random value"
   ]
  },
  {
   "cell_type": "markdown",
   "id": "ebfb9b0d",
   "metadata": {},
   "source": [
    "Now, if we calculate the cost, since the weights and bias are at 0 the cost will be based only on the y vector we have."
   ]
  },
  {
   "cell_type": "code",
   "execution_count": 37,
   "id": "2e4fa776",
   "metadata": {},
   "outputs": [
    {
     "name": "stdout",
     "output_type": "stream",
     "text": [
      "Current cost with our initial weights and bias is: 8.9484\n"
     ]
    }
   ],
   "source": [
    "# Calling the cost function to calculate cost for our weights and bias\n",
    "currentCost = compute_cost(weights, bias, x_train, y_train)\n",
    "print(f\"Current cost with our initial weights and bias is: {currentCost:.4f}\")"
   ]
  },
  {
   "cell_type": "markdown",
   "id": "9017e2f0",
   "metadata": {},
   "source": [
    "### Compute Gradient Function:"
   ]
  },
  {
   "cell_type": "markdown",
   "id": "63faee55",
   "metadata": {},
   "source": [
    "<ul>\n",
    "    <li>In the below function, we are going to calculate the gradient which is the dj/dw, dj/db values.</li>\n",
    "    <li>Below function uses looping to calculate the gradient based on all the samples i and features j.</li>\n",
    "    <li>The function converts all the pandas dataframe to numpy arrays, to use the np.dot functionality which is going to speed up our calculation time, instead of using regular scalar multiplication.</li>\n",
    "</ul>"
   ]
  },
  {
   "cell_type": "code",
   "execution_count": 38,
   "id": "e85eafe7",
   "metadata": {},
   "outputs": [
    {
     "data": {
      "text/plain": [
       "'\\ndef compute_gradient(w, b, x, y):\\n    m = x.shape[0]\\n    n = x.shape[1]\\n    \\n    X = np.asarray(x)\\n    y = np.asarray(y).flatten()  # Ensuring y is 1D\\n    w = np.asarray(w).flatten()  # Ensuring w is 1D\\n    \\n    dj_dw = 0\\n    dj_db = 0\\n    for i in range(m):\\n        error = (np.dot(X[i], w) +b)  - y[i]\\n        for j in range(n):\\n            dj_dw = dj_dw + error * X[i,j]\\n        dj_db = dj_db + error\\n    dj_dw = dj_dw / m\\n    dj_db = dj_db / m\\n    \\n    return dj_dw,dj_db \\n    '"
      ]
     },
     "execution_count": 38,
     "metadata": {},
     "output_type": "execute_result"
    }
   ],
   "source": [
    "\"\"\"\n",
    "def compute_gradient(w, b, x, y):\n",
    "    m = x.shape[0]\n",
    "    n = x.shape[1]\n",
    "    \n",
    "    X = np.asarray(x)\n",
    "    y = np.asarray(y).flatten()  # Ensuring y is 1D\n",
    "    w = np.asarray(w).flatten()  # Ensuring w is 1D\n",
    "    \n",
    "    dj_dw = 0\n",
    "    dj_db = 0\n",
    "    for i in range(m):\n",
    "        error = (np.dot(X[i], w) +b)  - y[i]\n",
    "        for j in range(n):\n",
    "            dj_dw = dj_dw + error * X[i,j]\n",
    "        dj_db = dj_db + error\n",
    "    dj_dw = dj_dw / m\n",
    "    dj_db = dj_db / m\n",
    "    \n",
    "    return dj_dw,dj_db \n",
    "    \"\"\""
   ]
  },
  {
   "cell_type": "markdown",
   "id": "0786519a",
   "metadata": {},
   "source": [
    "<ul>\n",
    "    <li> The below function is just more computationally friendly version of the above function.</li>\n",
    "    <li> Here, we are going to use matrix multiplication (@) for computation which matches the result, we obtained in the above function using loops and dot product.</li>\n",
    "</ul>"
   ]
  },
  {
   "cell_type": "code",
   "execution_count": 39,
   "id": "f4eb2d36",
   "metadata": {},
   "outputs": [],
   "source": [
    "def compute_gradient(w, b, X, y):\n",
    "    \n",
    "    m = X.shape[0]\n",
    "    X = np.asarray(X)\n",
    "    y = np.asarray(y).flatten()\n",
    "    w = np.asarray(w).flatten()\n",
    "    \n",
    "    # Vectorized implementation\n",
    "    errors = (X @ w + b) - y\n",
    "    dj_dw = (X.T @ errors) / m  # Vectorized weight gradients\n",
    "    dj_db = np.sum(errors) / m   # Bias gradient\n",
    "    \n",
    "    return dj_dw, dj_db "
   ]
  },
  {
   "cell_type": "code",
   "execution_count": 82,
   "id": "f558e349",
   "metadata": {},
   "outputs": [],
   "source": [
    "def compute_regularized_gradient(w, b, X, y, lambda_):\n",
    "    \n",
    "    m, n = X.shape\n",
    "    X = np.asarray(X)\n",
    "    y = np.asarray(y).flatten()\n",
    "    w = np.asarray(w).flatten()\n",
    "    \n",
    "    # Vectorized implementation\n",
    "    errors = (X @ w + b) - y\n",
    "    dj_dw = (X.T @ errors) / m  # Vectorized weight gradients\n",
    "    dj_db = np.sum(errors) / m   # Bias gradient\n",
    "    \n",
    "    for j in range(n):\n",
    "        dj_dw[j] = dj_dw[j] + (lambda_/m)*(w[j]**2)\n",
    "    \n",
    "    return dj_dw, dj_db "
   ]
  },
  {
   "cell_type": "code",
   "execution_count": 40,
   "id": "c157449b",
   "metadata": {},
   "outputs": [
    {
     "name": "stdout",
     "output_type": "stream",
     "text": [
      "dj_db at initial w,b: -3.5077384615384615\n",
      "dj_dw at initial w,b: \n",
      " [-6.65597692e+00 -1.99661538e-01 -1.59038462e-01 -4.66107692e-01\n",
      " -1.98792308e-01 -3.04146154e-01 -1.13040769e+00 -2.48038462e-01\n",
      " -2.71376923e-01 -2.56615385e-02 -2.63446154e-01 -4.23061538e-01\n",
      " -4.17371501e+01 -3.55287737e+01 -4.83607872e+02 -4.97776770e+02\n",
      " -5.40727387e+01 -3.85256899e+00 -1.04528255e+02 -2.57898000e+02\n",
      " -2.27465324e+01 -7.44618462e+00 -1.57218462e+00 -8.44176923e-01\n",
      " -2.07530769e-01 -1.89407692e-01 -1.43373077e+00]\n"
     ]
    }
   ],
   "source": [
    "tmp_dj_dw, tmp_dj_db = compute_gradient(weights, bias, x_train, y_train)\n",
    "print(f'dj_db at initial w,b: {tmp_dj_db}')\n",
    "print(f'dj_dw at initial w,b: \\n {tmp_dj_dw}')"
   ]
  },
  {
   "cell_type": "markdown",
   "id": "206c946b",
   "metadata": {},
   "source": [
    "### Gradient Descent Function"
   ]
  },
  {
   "cell_type": "markdown",
   "id": "fd7ce802",
   "metadata": {},
   "source": [
    "<ul>\n",
    "    <li> In the below function, we are going to calculate the gradient descent, by using the two functions we have already defined compute_cost and compute_gradient.</li>\n",
    "    <li> We are also going to record the cost values, so that we can plot graphs and check how our cost is going down.</li>\n",
    "    <li> we are going to display the cost for every tenth of our iterations, so we have a fair idea of how our cost is behaving</li>\n",
    "</ul>"
   ]
  },
  {
   "cell_type": "code",
   "execution_count": 92,
   "id": "252df183",
   "metadata": {},
   "outputs": [],
   "source": [
    "def gradient_descent(x, y, w_in, b_in, costFunction, gradientFunction, alpha, iterations):\n",
    "    \n",
    "    costHistory = []\n",
    "    w = w_in.copy()\n",
    "    b = b_in\n",
    "    \n",
    "    for i in range(iterations):\n",
    "        \n",
    "        dj_dw, dj_db = gradientFunction(w, b, x, y)\n",
    "        \n",
    "        w = w - alpha * dj_dw\n",
    "        b = b - alpha * dj_db  \n",
    "        \n",
    "        costHistory.append(costFunction(w, b, x, y))\n",
    "            \n",
    "        if i % math.ceil(iterations / 10) == 0:\n",
    "            print(f\"Iteration {i:4d}: Cost {costHistory[-1]:8.2f}   \")\n",
    "    \n",
    "    return w, b, costHistory"
   ]
  },
  {
   "cell_type": "code",
   "execution_count": 93,
   "id": "501d6713",
   "metadata": {},
   "outputs": [],
   "source": [
    "def regularized_gradient_descent(x, y, w_in, b_in, costFunction, regularizedGradient, alpha, lambda_, iterations):\n",
    "    \n",
    "    costHistory = []\n",
    "    w = w_in.copy()\n",
    "    b = b_in\n",
    "    \n",
    "    for i in range(iterations):\n",
    "        \n",
    "        dj_dw, dj_db = regularizedGradient(w, b, x, y, lambda_)\n",
    "        \n",
    "        w = w - alpha * dj_dw\n",
    "        b = b - alpha * dj_db  \n",
    "        \n",
    "        costHistory.append(costFunction(w, b, x, y))\n",
    "            \n",
    "        if i % math.ceil(iterations / 10) == 0:\n",
    "            print(f\"Iteration {i:4d}: Cost {costHistory[-1]:8.2f}   \")\n",
    "    \n",
    "    return w, b, costHistory"
   ]
  },
  {
   "cell_type": "markdown",
   "id": "4462a835",
   "metadata": {},
   "source": [
    "So if we look closely at the code below, we are not using x_train which is not scaled. Observe how the cost behaves. We are also going to calculate the gradient descent using the scaled features shortly."
   ]
  },
  {
   "cell_type": "markdown",
   "id": "08319617",
   "metadata": {},
   "source": [
    "### Gradient descent with 0 weights vector and bias "
   ]
  },
  {
   "cell_type": "markdown",
   "id": "24a3a157",
   "metadata": {},
   "source": [
    "We have already initiated the weights vector with 0 weights and bias is also equal to 0."
   ]
  },
  {
   "cell_type": "markdown",
   "id": "d05696d1",
   "metadata": {},
   "source": [
    "#### Non-Scaled Data"
   ]
  },
  {
   "cell_type": "code",
   "execution_count": 42,
   "id": "2ca3402e",
   "metadata": {},
   "outputs": [
    {
     "name": "stdout",
     "output_type": "stream",
     "text": [
      "Iteration    0: Cost     7.30   \n",
      "Iteration 20000: Cost     1.01   \n",
      "Iteration 40000: Cost     0.88   \n",
      "Iteration 60000: Cost     0.83   \n",
      "Iteration 80000: Cost     0.79   \n",
      "Iteration 100000: Cost     0.77   \n",
      "Iteration 120000: Cost     0.76   \n",
      "Iteration 140000: Cost     0.74   \n",
      "Iteration 160000: Cost     0.74   \n",
      "Iteration 180000: Cost     0.73   \n"
     ]
    }
   ],
   "source": [
    "iterations = 200000\n",
    "alpha = 4e-5\n",
    "# run gradient descent \n",
    "w_final, b_final, J_hist = gradient_descent(x_train, y_train, weights, bias, compute_cost, compute_gradient, \n",
    "                                                    alpha, iterations)"
   ]
  },
  {
   "cell_type": "code",
   "execution_count": 43,
   "id": "735862b5",
   "metadata": {},
   "outputs": [
    {
     "name": "stdout",
     "output_type": "stream",
     "text": [
      "Final cost is: 0.7227\n"
     ]
    }
   ],
   "source": [
    "print(f\"Final cost is: {J_hist[-1]:.4f}\")"
   ]
  },
  {
   "cell_type": "markdown",
   "id": "c057faa7",
   "metadata": {},
   "source": [
    "We can see our bias and weights values below and also a few predictions versus the target values."
   ]
  },
  {
   "cell_type": "code",
   "execution_count": 44,
   "id": "d682bdf8",
   "metadata": {},
   "outputs": [
    {
     "name": "stdout",
     "output_type": "stream",
     "text": [
      "b,w found by gradient descent: 0.51,[ 1.15423647e+00  2.67224917e-01  1.73087779e-01  4.61705557e-01\n",
      "  2.41266955e-01  2.54154942e-01  6.49391297e-01  1.91356214e-01\n",
      "  2.66456612e-01  4.60850459e-02  2.70366496e-01  6.10384367e-01\n",
      " -3.05834104e-02  2.54426254e-02  1.13608627e-02  8.56849459e-05\n",
      "  1.33317846e-02  4.90789715e-03  4.87694335e-03  7.66826094e-04\n",
      " -3.33466846e-02  1.77122463e-03  1.35944498e-01 -3.11581183e-01\n",
      "  2.66892901e-01  2.55459301e-01  7.78313091e-01] \n",
      "prediction: 7.06, target value: 7\n",
      "prediction: 2.57, target value: 4\n",
      "prediction: 1.98, target value: 1\n",
      "prediction: 3.63, target value: 3\n",
      "prediction: 2.25, target value: 1\n",
      "prediction: 4.37, target value: 6\n",
      "prediction: 5.44, target value: 5\n",
      "prediction: 2.27, target value: 4\n",
      "prediction: 6.45, target value: 6\n",
      "prediction: 4.08, target value: 6\n",
      "prediction: 2.50, target value: 3\n",
      "prediction: 1.80, target value: 1\n",
      "prediction: 8.07, target value: 8\n",
      "prediction: 6.79, target value: 6\n",
      "prediction: 5.86, target value: 6\n",
      "prediction: 6.53, target value: 6\n"
     ]
    }
   ],
   "source": [
    "print(f\"b,w found by gradient descent: {b_final:0.2f},{w_final} \")\n",
    "m,_ = x_train.shape\n",
    "for i in range(16):\n",
    "    print(f\"prediction: {np.dot(x_train.iloc[i], w_final) + b_final:0.2f}, target value: {y_train.iloc[i]}\")"
   ]
  },
  {
   "cell_type": "code",
   "execution_count": 45,
   "id": "d82c86db",
   "metadata": {},
   "outputs": [
    {
     "data": {
      "image/png": "[encoded data removed]",
      "text/plain": [
       "<Figure size 1200x400 with 2 Axes>"
      ]
     },
     "metadata": {},
     "output_type": "display_data"
    }
   ],
   "source": [
    "fig, (ax1, ax2) = plt.subplots(1, 2, constrained_layout=True, figsize=(12, 4))\n",
    "ax1.plot(J_hist)\n",
    "ax2.plot(100 + np.arange(len(J_hist[100:])), J_hist[100:])\n",
    "ax1.set_title(\"Cost vs. iteration\");  ax2.set_title(\"Cost vs. iteration (tail)\")\n",
    "ax1.set_ylabel('Cost')             ;  ax2.set_ylabel('Cost') \n",
    "ax1.set_xlabel('iteration step')   ;  ax2.set_xlabel('iteration step') \n",
    "plt.show()"
   ]
  },
  {
   "cell_type": "markdown",
   "id": "ebee8197",
   "metadata": {},
   "source": [
    "#### Scaled Data\n",
    "We are going to used scaled data to find gradient descent"
   ]
  },
  {
   "cell_type": "code",
   "execution_count": 94,
   "id": "27682d5e",
   "metadata": {},
   "outputs": [
    {
     "name": "stdout",
     "output_type": "stream",
     "text": [
      "Iteration    0: Cost     1.20   \n",
      "Iteration  100: Cost     0.67   \n",
      "Iteration  200: Cost     0.67   \n",
      "Iteration  300: Cost     0.67   \n",
      "Iteration  400: Cost     0.67   \n",
      "Iteration  500: Cost     0.67   \n",
      "Iteration  600: Cost     0.67   \n",
      "Iteration  700: Cost     0.67   \n",
      "Iteration  800: Cost     0.67   \n",
      "Iteration  900: Cost     0.67   \n"
     ]
    }
   ],
   "source": [
    "iterations = 1000\n",
    "alpha = 5e-1\n",
    "# run gradient descent \n",
    "scaled_w_final, scaled_b_final, scaled_J_hist = gradient_descent(X_scaled, y_train, weights, bias, compute_cost, compute_gradient, \n",
    "                                                    alpha, iterations)"
   ]
  },
  {
   "cell_type": "code",
   "execution_count": 47,
   "id": "111491a2",
   "metadata": {},
   "outputs": [
    {
     "name": "stdout",
     "output_type": "stream",
     "text": [
      "Final cost is: 0.6679\n"
     ]
    }
   ],
   "source": [
    "print(f\"Final cost is: {scaled_J_hist[-1]:.4f}\")"
   ]
  },
  {
   "cell_type": "code",
   "execution_count": 48,
   "id": "ab0787ac",
   "metadata": {},
   "outputs": [
    {
     "name": "stdout",
     "output_type": "stream",
     "text": [
      "b,w found by gradient descent: 4.01,[ 1.78032014e+00  1.37852439e-01  5.68270110e-02  1.05217418e-01\n",
      "  7.61728677e-02  1.42072936e-01  3.33948912e-01  8.11920060e-02\n",
      "  1.33458407e-01  4.63122647e-02  6.51931623e-02  3.39015670e-01\n",
      "  2.63891752e-02  1.30791599e-01 -6.48451614e-03 -1.08653751e-03\n",
      "  1.01083439e-01  3.19467680e-03 -1.21134477e-03  9.88754216e-04\n",
      " -1.36133699e-02  9.14181796e-05  3.32665783e-02  1.57897301e-03\n",
      "  2.36934677e-01  1.95915310e-01  3.72577934e-01] \n",
      "prediction: 6.94, target value: 7\n",
      "prediction: 3.10, target value: 4\n",
      "prediction: 1.89, target value: 1\n",
      "prediction: 3.45, target value: 3\n",
      "prediction: 1.89, target value: 1\n",
      "prediction: 4.16, target value: 6\n",
      "prediction: 5.35, target value: 5\n",
      "prediction: 2.24, target value: 4\n",
      "prediction: 8.09, target value: 6\n",
      "prediction: 4.19, target value: 6\n",
      "prediction: 1.92, target value: 3\n",
      "prediction: 1.83, target value: 1\n",
      "prediction: 7.65, target value: 8\n",
      "prediction: 6.52, target value: 6\n",
      "prediction: 5.75, target value: 6\n",
      "prediction: 6.55, target value: 6\n"
     ]
    }
   ],
   "source": [
    "print(f\"b,w found by gradient descent: {scaled_b_final:0.2f},{scaled_w_final} \")\n",
    "m,_ = x_train.shape\n",
    "for i in range(16):\n",
    "    print(f\"prediction: {np.dot(X_scaled[i], scaled_w_final) + scaled_b_final:0.2f}, target value: {y_train.iloc[i]}\")"
   ]
  },
  {
   "cell_type": "code",
   "execution_count": 49,
   "id": "ee52896b",
   "metadata": {},
   "outputs": [
    {
     "data": {
      "image/png": "[encoded data removed]",
      "text/plain": [
       "<Figure size 1200x400 with 2 Axes>"
      ]
     },
     "metadata": {},
     "output_type": "display_data"
    }
   ],
   "source": [
    "fig, (ax1, ax2) = plt.subplots(1, 2, constrained_layout=True, figsize=(12, 4))\n",
    "ax1.plot(scaled_J_hist)\n",
    "ax2.plot(100 + np.arange(len(scaled_J_hist[100:])), scaled_J_hist[100:])\n",
    "ax1.set_title(\"Cost vs. iteration\");  ax2.set_title(\"Cost vs. iteration (tail)\")\n",
    "ax1.set_ylabel('Cost')             ;  ax2.set_ylabel('Cost') \n",
    "ax1.set_xlabel('iteration step')   ;  ax2.set_xlabel('iteration step') \n",
    "plt.show()"
   ]
  },
  {
   "cell_type": "markdown",
   "id": "737c414e",
   "metadata": {},
   "source": [
    "#### Difference in convergence rates between scaled and unscaled data"
   ]
  },
  {
   "cell_type": "markdown",
   "id": "9be348b6",
   "metadata": {},
   "source": [
    "<ul>\n",
    "    <li>We can see that the version where we have used scaled data converged almost just after few hundred iterations, whereas the version where we used unscaled data still did not converge converge to the global minima even after 200 thousand iterations.</li>\n",
    "    <li>It should also be noted that the final alpha value is chosen after trying many different values.</li>\n",
    "</ul>"
   ]
  },
  {
   "cell_type": "markdown",
   "id": "8249536d",
   "metadata": {},
   "source": [
    "### Gradient descent with non-0 weights vector and bias "
   ]
  },
  {
   "cell_type": "markdown",
   "id": "e9db61bb",
   "metadata": {},
   "source": [
    "<ul>\n",
    "    <li>Instead of starting with a zero weight vector, we are going to initialize them with small random weights. This would be ideal, because if we initialize the weights to 0s, all the weights update identically and hence we can see the predictions above are within a specific range between 3 and 4.5.</li>\n",
    "    <li>Also intializing bias to the mean of y would help in faster convergence and also would avoid large initial errors (if y values are large).</li>\n",
    "</ul>"
   ]
  },
  {
   "cell_type": "code",
   "execution_count": 50,
   "id": "e3bbdd28",
   "metadata": {},
   "outputs": [],
   "source": [
    "weights = np.random.randn(X_scaled.shape[1]) * 0.01  # Small random values\n",
    "bias = np.mean(y_train)"
   ]
  },
  {
   "cell_type": "markdown",
   "id": "95490ba0",
   "metadata": {},
   "source": [
    "### Non-scaled Data"
   ]
  },
  {
   "cell_type": "markdown",
   "id": "b12c31ad",
   "metadata": {},
   "source": [
    "So let us first try with the non-scaled data and see if the change in weights and bias values has any change at all on the convergence."
   ]
  },
  {
   "cell_type": "code",
   "execution_count": 51,
   "id": "5743d72e",
   "metadata": {},
   "outputs": [
    {
     "name": "stdout",
     "output_type": "stream",
     "text": [
      "Iteration    0: Cost     4.71   \n",
      "Iteration 2000: Cost     2.20   \n",
      "Iteration 4000: Cost     1.84   \n",
      "Iteration 6000: Cost     1.59   \n",
      "Iteration 8000: Cost     1.41   \n",
      "Iteration 10000: Cost     1.28   \n",
      "Iteration 12000: Cost     1.19   \n",
      "Iteration 14000: Cost     1.13   \n",
      "Iteration 16000: Cost     1.08   \n",
      "Iteration 18000: Cost     1.04   \n"
     ]
    }
   ],
   "source": [
    "iterations = 20000\n",
    "alpha = 4e-5\n",
    "# run gradient descent \n",
    "nonzero_w_final, nonzero_b_final, nonzero_J_hist = gradient_descent(x_train, y_train, weights, bias, compute_cost, compute_gradient, \n",
    "                                                    alpha, iterations)"
   ]
  },
  {
   "cell_type": "code",
   "execution_count": 52,
   "id": "de587d4f",
   "metadata": {},
   "outputs": [
    {
     "name": "stdout",
     "output_type": "stream",
     "text": [
      "Final cost is: 1.0098\n"
     ]
    }
   ],
   "source": [
    "print(f\"Final cost is: {nonzero_J_hist[-1]:.4f}\")"
   ]
  },
  {
   "cell_type": "code",
   "execution_count": 53,
   "id": "0287af6a",
   "metadata": {},
   "outputs": [
    {
     "name": "stdout",
     "output_type": "stream",
     "text": [
      "b,w found by gradient descent: 4.01,[ 9.78815603e-01  3.94691482e-02  3.56822184e-02  8.40819418e-02\n",
      "  3.91283357e-02  6.66971580e-02  1.91270870e-01  3.97253682e-02\n",
      "  4.97721151e-02  1.23511667e-03  5.21953726e-02  9.76001651e-02\n",
      " -5.32726001e-02  6.86466415e-03 -5.82983724e-03 -1.23834762e-04\n",
      "  2.40802084e-02  4.28760146e-03 -3.34680566e-03  4.36893851e-04\n",
      " -1.75034893e-02  4.00627801e-03  4.98164716e-02 -1.51151905e-01\n",
      "  3.75176604e-02  3.85426939e-02  2.18953010e-01] \n",
      "prediction: 6.11, target value: 7\n",
      "prediction: 2.74, target value: 4\n",
      "prediction: 2.61, target value: 1\n",
      "prediction: 3.22, target value: 3\n",
      "prediction: 2.79, target value: 1\n",
      "prediction: 4.74, target value: 6\n",
      "prediction: 5.57, target value: 5\n",
      "prediction: 2.55, target value: 4\n",
      "prediction: 5.26, target value: 6\n",
      "prediction: 3.08, target value: 6\n",
      "prediction: 3.08, target value: 3\n",
      "prediction: 2.58, target value: 1\n",
      "prediction: 7.66, target value: 8\n",
      "prediction: 6.72, target value: 6\n",
      "prediction: 5.16, target value: 6\n",
      "prediction: 6.53, target value: 6\n"
     ]
    }
   ],
   "source": [
    "print(f\"b,w found by gradient descent: {nonzero_b_final:0.2f},{nonzero_w_final} \")\n",
    "m,_ = x_train.shape\n",
    "for i in range(16):\n",
    "    print(f\"prediction: {np.dot(x_train.iloc[i], nonzero_w_final) + nonzero_b_final:0.2f}, target value: {y_train.iloc[i]}\")"
   ]
  },
  {
   "cell_type": "code",
   "execution_count": 54,
   "id": "33345cd1",
   "metadata": {},
   "outputs": [
    {
     "data": {
      "image/png": "[encoded data removed]",
      "text/plain": [
       "<Figure size 1200x400 with 2 Axes>"
      ]
     },
     "metadata": {},
     "output_type": "display_data"
    }
   ],
   "source": [
    "fig, (ax1, ax2) = plt.subplots(1, 2, constrained_layout=True, figsize=(12, 4))\n",
    "ax1.plot(nonzero_J_hist)\n",
    "ax2.plot(100 + np.arange(len(nonzero_J_hist[100:])), nonzero_J_hist[100:])\n",
    "ax1.set_title(\"Cost vs. iteration\");  ax2.set_title(\"Cost vs. iteration (tail)\")\n",
    "ax1.set_ylabel('Cost')             ;  ax2.set_ylabel('Cost') \n",
    "ax1.set_xlabel('iteration step')   ;  ax2.set_xlabel('iteration step') \n",
    "plt.show()"
   ]
  },
  {
   "cell_type": "markdown",
   "id": "35b4abdc",
   "metadata": {},
   "source": [
    "<b>Why is the cost at the end of 200k iterations similar when the starting points are different?</b>"
   ]
  },
  {
   "cell_type": "markdown",
   "id": "47ef95db",
   "metadata": {},
   "source": [
    "In both the unscaled data gradient descents, the starting points are different ( different weights and bias values ). <b>Since linear regression uses a convex cost function, irrespective of the starting point, the cost gradient descent has to converge to the same point and hence travel toward the global minima, but the number of iterations taken to reach it can vary.</b>"
   ]
  },
  {
   "cell_type": "markdown",
   "id": "5ea07104",
   "metadata": {},
   "source": [
    "### Scaled Data"
   ]
  },
  {
   "cell_type": "markdown",
   "id": "596d185b",
   "metadata": {},
   "source": [
    "In the below palette, we can see that we used scaled version of the features <b>X_scaled</b> instead of <b>x_train</b>."
   ]
  },
  {
   "cell_type": "code",
   "execution_count": 55,
   "id": "d7b919d5",
   "metadata": {},
   "outputs": [
    {
     "name": "stdout",
     "output_type": "stream",
     "text": [
      "Iteration    0: Cost     1.20   \n",
      "Iteration  200: Cost     0.67   \n",
      "Iteration  400: Cost     0.67   \n",
      "Iteration  600: Cost     0.67   \n",
      "Iteration  800: Cost     0.67   \n",
      "Iteration 1000: Cost     0.67   \n",
      "Iteration 1200: Cost     0.67   \n",
      "Iteration 1400: Cost     0.67   \n",
      "Iteration 1600: Cost     0.67   \n",
      "Iteration 1800: Cost     0.67   \n"
     ]
    }
   ],
   "source": [
    "iterations = 2000\n",
    "alpha = 5e-1\n",
    "# run gradient descent \n",
    "nonzero_scaled_w_final, nonzero_scaled_b_final, nonzero_scaled_J_hist = gradient_descent(X_scaled, y_train, weights, bias, compute_cost, compute_gradient, \n",
    "                                                    alpha, iterations)"
   ]
  },
  {
   "cell_type": "code",
   "execution_count": 56,
   "id": "50ed6c2b",
   "metadata": {},
   "outputs": [
    {
     "name": "stdout",
     "output_type": "stream",
     "text": [
      "b,w found by gradient descent: 4.01,[ 1.78032014e+00  1.37852439e-01  5.68270110e-02  1.05217418e-01\n",
      "  7.61728677e-02  1.42072936e-01  3.33948912e-01  8.11920060e-02\n",
      "  1.33458407e-01  4.63122647e-02  6.51931623e-02  3.39015670e-01\n",
      "  2.63891752e-02  1.30791599e-01 -6.48451614e-03 -1.08653751e-03\n",
      "  1.01083439e-01  3.19467680e-03 -1.21134477e-03  9.88754216e-04\n",
      " -1.36133699e-02  9.14181796e-05  3.32665783e-02  1.57897301e-03\n",
      "  2.36934677e-01  1.95915310e-01  3.72577934e-01] \n",
      "prediction: 6.94, target value: 7\n",
      "prediction: 3.10, target value: 4\n",
      "prediction: 1.89, target value: 1\n",
      "prediction: 3.45, target value: 3\n",
      "prediction: 1.89, target value: 1\n",
      "prediction: 4.16, target value: 6\n",
      "prediction: 5.35, target value: 5\n",
      "prediction: 2.24, target value: 4\n",
      "prediction: 8.09, target value: 6\n",
      "prediction: 4.19, target value: 6\n",
      "prediction: 1.92, target value: 3\n",
      "prediction: 1.83, target value: 1\n",
      "prediction: 7.65, target value: 8\n",
      "prediction: 6.52, target value: 6\n",
      "prediction: 5.75, target value: 6\n",
      "prediction: 6.55, target value: 6\n"
     ]
    }
   ],
   "source": [
    "print(f\"b,w found by gradient descent: {nonzero_scaled_b_final:0.2f},{nonzero_scaled_w_final} \")\n",
    "m,_ = x_train.shape\n",
    "for i in range(16):\n",
    "    print(f\"prediction: {np.dot(X_scaled[i], nonzero_scaled_w_final) + nonzero_scaled_b_final:0.2f}, target value: {y_train.iloc[i]}\")"
   ]
  },
  {
   "cell_type": "markdown",
   "id": "4856f8a2",
   "metadata": {},
   "source": [
    "We can also see that our bias and weights are different from the previous gradient descent values."
   ]
  },
  {
   "cell_type": "code",
   "execution_count": 57,
   "id": "62a1de03",
   "metadata": {},
   "outputs": [
    {
     "data": {
      "image/png": "[encoded data removed]",
      "text/plain": [
       "<Figure size 1200x400 with 2 Axes>"
      ]
     },
     "metadata": {},
     "output_type": "display_data"
    }
   ],
   "source": [
    "fig, (ax1, ax2) = plt.subplots(1, 2, constrained_layout=True, figsize=(12, 4))\n",
    "ax1.plot(nonzero_scaled_J_hist)\n",
    "ax2.plot(100 + np.arange(len(nonzero_scaled_J_hist[100:])), nonzero_scaled_J_hist[100:])\n",
    "ax1.set_title(\"Cost vs. iteration\");  ax2.set_title(\"Cost vs. iteration (tail)\")\n",
    "ax1.set_ylabel('Cost')             ;  ax2.set_ylabel('Cost') \n",
    "ax1.set_xlabel('iteration step')   ;  ax2.set_xlabel('iteration step') \n",
    "plt.show()"
   ]
  },
  {
   "cell_type": "markdown",
   "id": "b4a0210a",
   "metadata": {},
   "source": [
    "Based on the different weights and values we took, it looks like there is not much difference in the rate of convergence."
   ]
  },
  {
   "cell_type": "markdown",
   "id": "252d4c15",
   "metadata": {},
   "source": [
    "## Mean Squared Errors for our Models"
   ]
  },
  {
   "cell_type": "code",
   "execution_count": 58,
   "id": "3dbf0836",
   "metadata": {},
   "outputs": [],
   "source": [
    "from sklearn.metrics import mean_squared_error"
   ]
  },
  {
   "cell_type": "markdown",
   "id": "551f4579",
   "metadata": {},
   "source": [
    "### SkLearn Model Unscaled"
   ]
  },
  {
   "cell_type": "markdown",
   "id": "dcc843a0",
   "metadata": {},
   "source": [
    "#### MSE"
   ]
  },
  {
   "cell_type": "code",
   "execution_count": 59,
   "id": "fbc16ad1",
   "metadata": {},
   "outputs": [
    {
     "name": "stdout",
     "output_type": "stream",
     "text": [
      "Scikit-Learn's MSE: 1.3359\n"
     ]
    }
   ],
   "source": [
    "unscaled_sk_mse = np.mean((lr_unscaled.predict(x_train) - y_train)**2)\n",
    "print(f\"Scikit-Learn's MSE: {unscaled_sk_mse:.4f}\")"
   ]
  },
  {
   "cell_type": "markdown",
   "id": "49524cb1",
   "metadata": {},
   "source": [
    "#### R2 score for training data"
   ]
  },
  {
   "cell_type": "code",
   "execution_count": 60,
   "id": "da27589c",
   "metadata": {},
   "outputs": [
    {
     "data": {
      "text/plain": [
       "0.7611322693943474"
      ]
     },
     "execution_count": 60,
     "metadata": {},
     "output_type": "execute_result"
    }
   ],
   "source": [
    "lr_unscaled.score(x_train, y_train)"
   ]
  },
  {
   "cell_type": "code",
   "execution_count": 61,
   "id": "0e5155c3",
   "metadata": {},
   "outputs": [
    {
     "data": {
      "text/plain": [
       "0.7634993373457422"
      ]
     },
     "execution_count": 61,
     "metadata": {},
     "output_type": "execute_result"
    }
   ],
   "source": [
    "lr_unscaled.score(x_test, y_test)"
   ]
  },
  {
   "cell_type": "markdown",
   "id": "c62d76d6",
   "metadata": {},
   "source": [
    "### SkLearn Model Scaled"
   ]
  },
  {
   "cell_type": "code",
   "execution_count": 62,
   "id": "244468dc",
   "metadata": {},
   "outputs": [
    {
     "name": "stdout",
     "output_type": "stream",
     "text": [
      "Scikit-Learn's MSE: 1.3359\n"
     ]
    }
   ],
   "source": [
    "sk_mse = np.mean((lr.predict(X_scaled) - y_train)**2)\n",
    "print(f\"Scikit-Learn's MSE: {sk_mse:.4f}\")"
   ]
  },
  {
   "cell_type": "markdown",
   "id": "adc46801",
   "metadata": {},
   "source": [
    "#### R2 score for training data"
   ]
  },
  {
   "cell_type": "code",
   "execution_count": 63,
   "id": "4a536a1b",
   "metadata": {},
   "outputs": [
    {
     "data": {
      "text/plain": [
       "0.7611322693943473"
      ]
     },
     "execution_count": 63,
     "metadata": {},
     "output_type": "execute_result"
    }
   ],
   "source": [
    "lr.score(X_scaled, y_train)"
   ]
  },
  {
   "cell_type": "code",
   "execution_count": 64,
   "id": "912b0dc6",
   "metadata": {},
   "outputs": [
    {
     "data": {
      "text/plain": [
       "0.7634993373457424"
      ]
     },
     "execution_count": 64,
     "metadata": {},
     "output_type": "execute_result"
    }
   ],
   "source": [
    "lr.score(test_scaled, y_test)"
   ]
  },
  {
   "cell_type": "markdown",
   "id": "82f040ea",
   "metadata": {},
   "source": [
    "### Unscaled zero weights and bias Model"
   ]
  },
  {
   "cell_type": "markdown",
   "id": "9f30c41d",
   "metadata": {},
   "source": [
    "#### MSE"
   ]
  },
  {
   "cell_type": "code",
   "execution_count": 65,
   "id": "e8190d7b",
   "metadata": {},
   "outputs": [
    {
     "data": {
      "text/plain": [
       "1.445395432382791"
      ]
     },
     "execution_count": 65,
     "metadata": {},
     "output_type": "execute_result"
    }
   ],
   "source": [
    "y_pred_custom = x_train @ w_final + b_final\n",
    "mse_custom = mean_squared_error(y_train, y_pred_custom)\n",
    "mse_custom"
   ]
  },
  {
   "cell_type": "markdown",
   "id": "1579e098",
   "metadata": {},
   "source": [
    "#### R2 score for training data"
   ]
  },
  {
   "cell_type": "code",
   "execution_count": 66,
   "id": "164c9f29",
   "metadata": {},
   "outputs": [],
   "source": [
    "from sklearn.metrics import r2_score"
   ]
  },
  {
   "cell_type": "code",
   "execution_count": 67,
   "id": "1944d9c5",
   "metadata": {},
   "outputs": [
    {
     "data": {
      "text/plain": [
       "0.7415479630511954"
      ]
     },
     "execution_count": 67,
     "metadata": {},
     "output_type": "execute_result"
    }
   ],
   "source": [
    "reshaped_y_pred_custom = y_pred_custom.to_numpy().flatten()  \n",
    "reshaped_y_train = y_train.values.reshape(-1)  \n",
    "\n",
    "r2_sklearn = r2_score(reshaped_y_train, reshaped_y_pred_custom)\n",
    "r2_sklearn"
   ]
  },
  {
   "cell_type": "markdown",
   "id": "44db3823",
   "metadata": {},
   "source": [
    "#### R2 score for testing data"
   ]
  },
  {
   "cell_type": "code",
   "execution_count": 68,
   "id": "b89e0813",
   "metadata": {},
   "outputs": [
    {
     "data": {
      "text/plain": [
       "0.7437277549553709"
      ]
     },
     "execution_count": 68,
     "metadata": {},
     "output_type": "execute_result"
    }
   ],
   "source": [
    "y_test_pred_custom = x_test @ w_final + b_final\n",
    "\n",
    "reshaped_y_test_pred_custom = y_test_pred_custom.to_numpy().flatten()  \n",
    "reshaped_y_test = y_test.values.reshape(-1)  \n",
    "\n",
    "r2_sklearn = r2_score(reshaped_y_test, reshaped_y_test_pred_custom)\n",
    "r2_sklearn"
   ]
  },
  {
   "cell_type": "markdown",
   "id": "f95b6ae0",
   "metadata": {},
   "source": [
    "### Scaled zero weights and bias model"
   ]
  },
  {
   "cell_type": "markdown",
   "id": "6357fe81",
   "metadata": {},
   "source": [
    "#### MSE"
   ]
  },
  {
   "cell_type": "code",
   "execution_count": 69,
   "id": "8b5d40c8",
   "metadata": {},
   "outputs": [
    {
     "data": {
      "text/plain": [
       "1.33587001610455"
      ]
     },
     "execution_count": 69,
     "metadata": {},
     "output_type": "execute_result"
    }
   ],
   "source": [
    "scaled_y_pred_custom = X_scaled @ scaled_w_final +scaled_b_final\n",
    "scaled_mse_custom = mean_squared_error(y_train, scaled_y_pred_custom)\n",
    "scaled_mse_custom"
   ]
  },
  {
   "cell_type": "markdown",
   "id": "cb40ad91",
   "metadata": {},
   "source": [
    "#### R2 score for training data"
   ]
  },
  {
   "cell_type": "code",
   "execution_count": 70,
   "id": "2699088b",
   "metadata": {},
   "outputs": [
    {
     "data": {
      "text/plain": [
       "0.7611322693943474"
      ]
     },
     "execution_count": 70,
     "metadata": {},
     "output_type": "execute_result"
    }
   ],
   "source": [
    "reshaped_scaled_y_pred_custom = scaled_y_pred_custom.flatten()  \n",
    "reshaped_Scaled_y_train = y_train.values.reshape(-1)  \n",
    "\n",
    "r2_sklearn = r2_score(reshaped_Scaled_y_train, reshaped_scaled_y_pred_custom)\n",
    "r2_sklearn"
   ]
  },
  {
   "cell_type": "markdown",
   "id": "7cc9ecb4",
   "metadata": {},
   "source": [
    "#### R2 score for testing data"
   ]
  },
  {
   "cell_type": "code",
   "execution_count": 71,
   "id": "e84352f3",
   "metadata": {},
   "outputs": [
    {
     "data": {
      "text/plain": [
       "0.7634993373457422"
      ]
     },
     "execution_count": 71,
     "metadata": {},
     "output_type": "execute_result"
    }
   ],
   "source": [
    "y_test_scaled_pred_custom = test_scaled @ scaled_w_final + scaled_b_final\n",
    "\n",
    "reshaped_y_test_scaled_pred_custom = y_test_scaled_pred_custom.flatten()  \n",
    "reshaped_y_test = y_test.values.reshape(-1)  \n",
    "\n",
    "r2_sklearn = r2_score(reshaped_y_test, reshaped_y_test_scaled_pred_custom)\n",
    "r2_sklearn"
   ]
  },
  {
   "cell_type": "markdown",
   "id": "7e90036b",
   "metadata": {},
   "source": [
    "### Unscaled non-zero weights and bias Model"
   ]
  },
  {
   "cell_type": "markdown",
   "id": "ef7b0ba9",
   "metadata": {},
   "source": [
    "#### MSE"
   ]
  },
  {
   "cell_type": "code",
   "execution_count": 72,
   "id": "f47a28b2",
   "metadata": {},
   "outputs": [
    {
     "data": {
      "text/plain": [
       "2.019684976969052"
      ]
     },
     "execution_count": 72,
     "metadata": {},
     "output_type": "execute_result"
    }
   ],
   "source": [
    "nonzero_y_pred_custom = x_train @ nonzero_w_final + nonzero_b_final\n",
    "nonzero_mse_custom = mean_squared_error(y_train, nonzero_y_pred_custom)\n",
    "nonzero_mse_custom"
   ]
  },
  {
   "cell_type": "markdown",
   "id": "c26662f0",
   "metadata": {},
   "source": [
    "#### R2 score for training data"
   ]
  },
  {
   "cell_type": "code",
   "execution_count": 73,
   "id": "a8dee29a",
   "metadata": {},
   "outputs": [
    {
     "data": {
      "text/plain": [
       "0.6388589000644431"
      ]
     },
     "execution_count": 73,
     "metadata": {},
     "output_type": "execute_result"
    }
   ],
   "source": [
    "reshaped_nonzero_y_pred_custom = nonzero_y_pred_custom.to_numpy().flatten()  \n",
    "reshaped_nonzero_y_train = y_train.values.reshape(-1)  \n",
    "\n",
    "r2_sklearn = r2_score(reshaped_nonzero_y_train, reshaped_nonzero_y_pred_custom)\n",
    "r2_sklearn"
   ]
  },
  {
   "cell_type": "markdown",
   "id": "18516f4c",
   "metadata": {},
   "source": [
    "#### R2 score for testing data"
   ]
  },
  {
   "cell_type": "code",
   "execution_count": 74,
   "id": "bfb500ab",
   "metadata": {},
   "outputs": [
    {
     "data": {
      "text/plain": [
       "0.6418789747280393"
      ]
     },
     "execution_count": 74,
     "metadata": {},
     "output_type": "execute_result"
    }
   ],
   "source": [
    "nonzero_y_test_pred_custom = x_test @ nonzero_w_final + nonzero_b_final\n",
    "\n",
    "reshaped_nonzero_y_test_pred_custom = nonzero_y_test_pred_custom.to_numpy().flatten()  \n",
    "reshaped_nonzero_y_test = y_test.values.reshape(-1)  \n",
    "\n",
    "r2_sklearn = r2_score(reshaped_nonzero_y_test, reshaped_nonzero_y_test_pred_custom)\n",
    "r2_sklearn"
   ]
  },
  {
   "cell_type": "markdown",
   "id": "a6ab75ae",
   "metadata": {},
   "source": [
    "### Scaled non-zero weights and bias Model"
   ]
  },
  {
   "cell_type": "markdown",
   "id": "7519bdda",
   "metadata": {},
   "source": [
    "#### MSE"
   ]
  },
  {
   "cell_type": "code",
   "execution_count": 75,
   "id": "449cb03a",
   "metadata": {},
   "outputs": [
    {
     "data": {
      "text/plain": [
       "1.33587001610455"
      ]
     },
     "execution_count": 75,
     "metadata": {},
     "output_type": "execute_result"
    }
   ],
   "source": [
    "nonzero_scaled_y_pred_custom = X_scaled @ nonzero_scaled_w_final + nonzero_scaled_b_final\n",
    "nonzero_scaled_mse_custom = mean_squared_error(y_train, nonzero_scaled_y_pred_custom)\n",
    "nonzero_scaled_mse_custom"
   ]
  },
  {
   "cell_type": "markdown",
   "id": "9086952e",
   "metadata": {},
   "source": [
    "#### R2 score for training data"
   ]
  },
  {
   "cell_type": "code",
   "execution_count": 76,
   "id": "411f9d1b",
   "metadata": {},
   "outputs": [
    {
     "data": {
      "text/plain": [
       "0.7611322693943474"
      ]
     },
     "execution_count": 76,
     "metadata": {},
     "output_type": "execute_result"
    }
   ],
   "source": [
    "reshaped_nonzero_scaled_y_pred_custom = nonzero_scaled_y_pred_custom.flatten()  \n",
    "reshaped_nonzero_scaled_y_train = y_train.values.reshape(-1)  \n",
    "\n",
    "r2_sklearn = r2_score(reshaped_nonzero_scaled_y_train, reshaped_nonzero_scaled_y_pred_custom)\n",
    "r2_sklearn"
   ]
  },
  {
   "cell_type": "markdown",
   "id": "0d88c924",
   "metadata": {},
   "source": [
    "#### R2 score for testing data"
   ]
  },
  {
   "cell_type": "code",
   "execution_count": 77,
   "id": "339fbe50",
   "metadata": {},
   "outputs": [
    {
     "data": {
      "text/plain": [
       "0.7634993373457422"
      ]
     },
     "execution_count": 77,
     "metadata": {},
     "output_type": "execute_result"
    }
   ],
   "source": [
    "y_test_nonzero_scaled_pred_custom = test_scaled @ nonzero_scaled_w_final + nonzero_scaled_b_final\n",
    "\n",
    "reshaped_y_test_nonzero_scaled_pred_custom = y_test_nonzero_scaled_pred_custom.flatten()  \n",
    "reshaped_nonzero_scaled_y_test = y_test.values.reshape(-1)  \n",
    "\n",
    "r2_sklearn = r2_score(reshaped_nonzero_scaled_y_test, reshaped_y_test_nonzero_scaled_pred_custom)\n",
    "r2_sklearn"
   ]
  },
  {
   "cell_type": "markdown",
   "id": "3e0f8686",
   "metadata": {},
   "source": [
    "### MSE values observations"
   ]
  },
  {
   "cell_type": "markdown",
   "id": "e170a9c9",
   "metadata": {},
   "source": [
    "<ul>\n",
    "    <li>We can clearly observe that our scaled models have an MSE on par with the sklearn model, since their gradient descent converged to the minima</li>\n",
    "    <li>It can also be noted that our non-scaled models MSE is also very close to the sklearn model. Since our unscaled model's gradient did not converge to the minima their MSE is slightly greater that that of the models, whose gradient descent is fully converged</li>"
   ]
  },
  {
   "cell_type": "markdown",
   "id": "51213eb8",
   "metadata": {},
   "source": [
    "### R2 value observations"
   ]
  },
  {
   "cell_type": "markdown",
   "id": "ae223c5e",
   "metadata": {},
   "source": [
    "<ul>\n",
    "    <li>The R2 values for scaled models is better than that of un-scaled models, which is obviously because of the convergence in gradient descent</li>\n",
    "    <li> We can also see that Testing R2 is better than that of Training R2 irrespective of the type of data (scaled or unscaled) used for the model. This indicates that all our models perform slightly better in real world compare to our training data</li>\n",
    "</ul>"
   ]
  },
  {
   "cell_type": "markdown",
   "id": "e5289e71",
   "metadata": {},
   "source": [
    "## Regularization"
   ]
  },
  {
   "cell_type": "markdown",
   "id": "e0e3ccc6",
   "metadata": {},
   "source": [
    "<ul>\n",
    "    <li>\n",
    "        Regularized linear regression is just an addition to linear regression, which adds a penalty term to the    cost function to discourage large model co-efficents and reduce overfitting.\n",
    "    </li>\n",
    "    <li>\n",
    "        Regularized linear regression is generally used, when there is a risk of overfitting, meaning in cases when we have a lot of features, highly co-related features, noisy data (stock market data), or a small dataset compare to the number of features.\n",
    "    </li>\n",
    "</ul>\n",
    "    \n"
   ]
  },
  {
   "cell_type": "markdown",
   "id": "f8ac14cd",
   "metadata": {},
   "source": [
    "#### Scaled Data"
   ]
  },
  {
   "cell_type": "code",
   "execution_count": 95,
   "id": "063774e7",
   "metadata": {},
   "outputs": [
    {
     "name": "stdout",
     "output_type": "stream",
     "text": [
      "Iteration    0: Cost     1.20   \n",
      "Iteration  100: Cost     0.67   \n",
      "Iteration  200: Cost     0.67   \n",
      "Iteration  300: Cost     0.67   \n",
      "Iteration  400: Cost     0.67   \n",
      "Iteration  500: Cost     0.67   \n",
      "Iteration  600: Cost     0.67   \n",
      "Iteration  700: Cost     0.67   \n",
      "Iteration  800: Cost     0.67   \n",
      "Iteration  900: Cost     0.67   \n"
     ]
    }
   ],
   "source": [
    "iterations = 1000\n",
    "alpha = 5e-1\n",
    "lambda_ = 0.1\n",
    "# run gradient descent \n",
    "regscaled_w_final, regscaled_b_final, regscaled_J_hist = regularized_gradient_descent(X_scaled, y_train, weights, bias, compute_cost, compute_regularized_gradient, \n",
    "                                                    alpha, lambda_, iterations)"
   ]
  },
  {
   "cell_type": "markdown",
   "id": "dcfc012c",
   "metadata": {},
   "source": [
    "#### MSE"
   ]
  },
  {
   "cell_type": "code",
   "execution_count": 97,
   "id": "fd8f3f9e",
   "metadata": {},
   "outputs": [
    {
     "data": {
      "text/plain": [
       "1.33587001610455"
      ]
     },
     "execution_count": 97,
     "metadata": {},
     "output_type": "execute_result"
    }
   ],
   "source": [
    "regscaled_y_pred_custom = X_scaled @ regscaled_w_final +regscaled_b_final\n",
    "regscaled_mse_custom = mean_squared_error(y_train, regscaled_y_pred_custom)\n",
    "scaled_mse_custom"
   ]
  },
  {
   "cell_type": "markdown",
   "id": "72d9ed01",
   "metadata": {},
   "source": [
    "#### R2 score for training data"
   ]
  },
  {
   "cell_type": "code",
   "execution_count": 98,
   "id": "d647cb01",
   "metadata": {},
   "outputs": [
    {
     "data": {
      "text/plain": [
       "0.7611322693900604"
      ]
     },
     "execution_count": 98,
     "metadata": {},
     "output_type": "execute_result"
    }
   ],
   "source": [
    "reshaped_regscaled_y_pred_custom = regscaled_y_pred_custom.flatten()  \n",
    "reshaped_regScaled_y_train = y_train.values.reshape(-1)  \n",
    "\n",
    "r2_sklearn = r2_score(reshaped_regScaled_y_train, reshaped_regscaled_y_pred_custom)\n",
    "r2_sklearn"
   ]
  },
  {
   "cell_type": "markdown",
   "id": "41737665",
   "metadata": {},
   "source": [
    "#### R2 score for testing data"
   ]
  },
  {
   "cell_type": "code",
   "execution_count": 99,
   "id": "76534e03",
   "metadata": {},
   "outputs": [
    {
     "data": {
      "text/plain": [
       "0.7634993684405338"
      ]
     },
     "execution_count": 99,
     "metadata": {},
     "output_type": "execute_result"
    }
   ],
   "source": [
    "y_test_regscaled_pred_custom = test_scaled @ regscaled_w_final + regscaled_b_final\n",
    "\n",
    "reshaped_y_test_regscaled_pred_custom = y_test_regscaled_pred_custom.flatten()  \n",
    "reshaped_y_test = y_test.values.reshape(-1)  \n",
    "\n",
    "r2_sklearn = r2_score(reshaped_y_test, reshaped_y_test_regscaled_pred_custom)\n",
    "r2_sklearn"
   ]
  },
  {
   "cell_type": "markdown",
   "id": "d95b1e44",
   "metadata": {},
   "source": [
    "#### Un-scaled data"
   ]
  },
  {
   "cell_type": "code",
   "execution_count": 103,
   "id": "2c3ffeff",
   "metadata": {},
   "outputs": [
    {
     "name": "stdout",
     "output_type": "stream",
     "text": [
      "Iteration    0: Cost     4.71   \n",
      "Iteration 20000: Cost     1.01   \n",
      "Iteration 40000: Cost     0.88   \n",
      "Iteration 60000: Cost     0.82   \n",
      "Iteration 80000: Cost     0.79   \n",
      "Iteration 100000: Cost     0.77   \n",
      "Iteration 120000: Cost     0.75   \n",
      "Iteration 140000: Cost     0.74   \n",
      "Iteration 160000: Cost     0.74   \n",
      "Iteration 180000: Cost     0.73   \n"
     ]
    }
   ],
   "source": [
    "iterations = 200000\n",
    "alpha = 4e-5\n",
    "lambda_ = 0.1\n",
    "# run gradient descent \n",
    "reg_w_final, reg_b_final, reg_J_hist = regularized_gradient_descent(x_train, y_train, weights, bias, compute_cost, compute_regularized_gradient, \n",
    "                                                    alpha, lambda_, iterations)"
   ]
  },
  {
   "cell_type": "markdown",
   "id": "42729169",
   "metadata": {},
   "source": [
    "#### MSE"
   ]
  },
  {
   "cell_type": "code",
   "execution_count": 107,
   "id": "9c71af67",
   "metadata": {},
   "outputs": [
    {
     "data": {
      "text/plain": [
       "1.4442990060252106"
      ]
     },
     "execution_count": 107,
     "metadata": {},
     "output_type": "execute_result"
    }
   ],
   "source": [
    "reg_y_pred_custom = x_train @ reg_w_final + reg_b_final\n",
    "mse_custom = mean_squared_error(y_train, reg_y_pred_custom)\n",
    "mse_custom"
   ]
  },
  {
   "cell_type": "markdown",
   "id": "553ff0b3",
   "metadata": {},
   "source": [
    "#### R2 score for training data"
   ]
  },
  {
   "cell_type": "code",
   "execution_count": 110,
   "id": "feaf3a8b",
   "metadata": {},
   "outputs": [
    {
     "data": {
      "text/plain": [
       "0.7417440157154922"
      ]
     },
     "execution_count": 110,
     "metadata": {},
     "output_type": "execute_result"
    }
   ],
   "source": [
    "reshaped_reg_y_pred_custom = reg_y_pred_custom.to_numpy().flatten()  \n",
    "reshaped_y_train = y_train.values.reshape(-1)  \n",
    "\n",
    "r2_sklearn = r2_score(reshaped_y_train, reshaped_reg_y_pred_custom)\n",
    "r2_sklearn"
   ]
  },
  {
   "cell_type": "markdown",
   "id": "0219d98e",
   "metadata": {},
   "source": [
    "#### R2 score for testing data"
   ]
  },
  {
   "cell_type": "code",
   "execution_count": 111,
   "id": "c29543d9",
   "metadata": {},
   "outputs": [
    {
     "data": {
      "text/plain": [
       "0.7437277549553709"
      ]
     },
     "execution_count": 111,
     "metadata": {},
     "output_type": "execute_result"
    }
   ],
   "source": [
    "reg_y_test_pred_custom = x_test @ w_final + b_final\n",
    "\n",
    "reshaped_reg_y_test_pred_custom = reg_y_test_pred_custom.to_numpy().flatten()  \n",
    "reshaped_y_test = y_test.values.reshape(-1)  \n",
    "\n",
    "r2_sklearn = r2_score(reshaped_y_test, reshaped_reg_y_test_pred_custom)\n",
    "r2_sklearn"
   ]
  },
  {
   "cell_type": "markdown",
   "id": "e89a84aa",
   "metadata": {},
   "source": [
    "### Observations for Regularized Linear Regression"
   ]
  },
  {
   "cell_type": "markdown",
   "id": "9ae54ac0",
   "metadata": {},
   "source": [
    "<ul>\n",
    "    <li>We can observe that there is no change in the Mean Squared Error, training score and testing score for both the scaled and unscaled models</li>\n",
    "    <li>The reason our models scores haven't improved or for that reason decreased, is that as we discussed, Regularization is used only when there is a reason to believe that our model is going to be overfit. In our case, the criteria discussed for overfit does not apply to our data and hence Regularization has no effect on our models.</li>\n",
    "</ul>"
   ]
  }
 ],
 "metadata": {
  "kernelspec": {
   "display_name": "Python 3 (ipykernel)",
   "language": "python",
   "name": "python3"
  },
  "language_info": {
   "codemirror_mode": {
    "name": "ipython",
    "version": 3
   },
   "file_extension": ".py",
   "mimetype": "text/x-python",
   "name": "python",
   "nbconvert_exporter": "python",
   "pygments_lexer": "ipython3",
   "version": "3.9.12"
  }
 },
 "nbformat": 4,
 "nbformat_minor": 5
}
